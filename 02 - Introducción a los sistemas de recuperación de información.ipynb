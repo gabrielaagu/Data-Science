{
  "nbformat": 4,
  "nbformat_minor": 0,
  "metadata": {
    "colab": {
      "provenance": [],
      "include_colab_link": true
    },
    "kernelspec": {
      "name": "python3",
      "display_name": "Python 3"
    },
    "language_info": {
      "name": "python"
    }
  },
  "cells": [
    {
      "cell_type": "markdown",
      "metadata": {
        "id": "view-in-github",
        "colab_type": "text"
      },
      "source": [
        "<a href=\"https://colab.research.google.com/github/gabrielaagu/Data-Science/blob/main/Introducci%C3%B3n%20a%20los%20sistemas%20de%20recuperaci%C3%B3n%20de%20informaci%C3%B3n.ipynb\" target=\"_parent\"><img src=\"https://colab.research.google.com/assets/colab-badge.svg\" alt=\"Open In Colab\"/></a>"
      ]
    },
    {
      "cell_type": "markdown",
      "source": [
        "# PEC 2. Introducción a los sistemas de recuperación de la información.\n",
        "\n",
        "En esta PEC vamos a desarrollar un sistema de recuperación de la información básico. Partiendo de una lista de documentos de texto, deberás utilizar las técnicas de recuperación de la información vistas en la asignatura para obtener, procesar y analizar datos útiles a partir del contenido.\n",
        "\n",
        "\n",
        "## Ejercicio 3: tareas básicas\n",
        "\n",
        "Además de las ya clásicas `pandas` y `numpy`, utilizaremos la librería [NLTK](https://es.wikipedia.org/wiki/NLTK) (Natural Language Toolkit), una librería de Python utilizada para analizar texto y aprendizaje automático."
      ],
      "metadata": {
        "id": "CE2WOrcTNUSd"
      }
    },
    {
      "cell_type": "code",
      "source": [
        "import numpy as np\n",
        "import pandas as pd\n",
        "import matplotlib.pyplot as plt\n",
        "\n",
        "import nltk\n",
        "nltk.download('stopwords')\n",
        "nltk.download('punkt')"
      ],
      "metadata": {
        "colab": {
          "base_uri": "https://localhost:8080/"
        },
        "id": "Sk1kBQ3ENpl-",
        "outputId": "f415ff05-9c2e-44de-8418-b356e1fae7db"
      },
      "execution_count": null,
      "outputs": [
        {
          "output_type": "stream",
          "name": "stderr",
          "text": [
            "[nltk_data] Downloading package stopwords to /root/nltk_data...\n",
            "[nltk_data]   Package stopwords is already up-to-date!\n",
            "[nltk_data] Downloading package punkt to /root/nltk_data...\n",
            "[nltk_data]   Package punkt is already up-to-date!\n"
          ]
        },
        {
          "output_type": "execute_result",
          "data": {
            "text/plain": [
              "True"
            ]
          },
          "metadata": {},
          "execution_count": 1
        }
      ]
    },
    {
      "cell_type": "markdown",
      "source": [
        "## 3.1 Separando las palabras (Tokenización)\n",
        "\n",
        "El significado de cada sentencia se obtiene de las palabras que contiene. Así que analizando las palabras presentes en un texto puede interpretarse el significado. Así que lo primero que hay que hacer para tratar el texto es separar las palabras que lo componen, es decir, hacer una lista de palabras. El modelo que utilizaremos aquí se denomina [**bolsa-de-palabras**](https://es.wikipedia.org/wiki/Modelo_bolsa_de_palabras) (bag-of-words) ya que nos interesan las palabras sin importar su posición o importancia en el documento.\n",
        "\n",
        "La separación de las palabras o tokenización consiste en separar el texto en palabras, también llamadas tokens. Generalmente, el \"espacio\" se utiliza para separar palabras y elementos como los puntos, comas, dos puntos, etc., se utilizan para separar frases.\n",
        "\n",
        "Existen múltiples formas de realizar la separación de palabras para un texto determinado.\n",
        "\n",
        "### 3.1.1 Funciones de Python\n",
        "\n",
        "Se puede utilizar la función `split()` para separar una cadena de texto en una lista de palabras. De forma predeterminada, `split()` utiliza el espacio en blanco, aunque se puede utilizar cualquier carácter."
      ],
      "metadata": {
        "id": "i2QypGqmNti5"
      }
    },
    {
      "cell_type": "code",
      "source": [
        "text01 = \"This sentence is the initial example text that illustrates the concept we're discussing.\"\n",
        "text01.split(' ')"
      ],
      "metadata": {
        "colab": {
          "base_uri": "https://localhost:8080/"
        },
        "id": "NJWmnpyEOQoz",
        "outputId": "13175974-1893-4736-9786-6b0922745e50"
      },
      "execution_count": null,
      "outputs": [
        {
          "output_type": "execute_result",
          "data": {
            "text/plain": [
              "['This',\n",
              " 'sentence',\n",
              " 'is',\n",
              " 'the',\n",
              " 'initial',\n",
              " 'example',\n",
              " 'text',\n",
              " 'that',\n",
              " 'illustrates',\n",
              " 'the',\n",
              " 'concept',\n",
              " \"we're\",\n",
              " 'discussing.']"
            ]
          },
          "metadata": {},
          "execution_count": 2
        }
      ]
    },
    {
      "cell_type": "markdown",
      "source": [
        "El método `split()` de Python no considera los signos de puntuación como elementos separados.\n",
        "\n",
        "### 3.1.2 Expresiones regulares\n",
        "\n",
        "El módulo `re` ofrece un conjunto de funciones para buscar coincidencias en una cadena de texto. Una *expresión regular* es una secuencia de caracteres que definen un patrón de búsqueda."
      ],
      "metadata": {
        "id": "1zEukbOvObzD"
      }
    },
    {
      "cell_type": "code",
      "source": [
        "import re\n",
        "\n",
        "text02 = \"\"\"There are multiple ways we can perform tokenization on given text data. We can choose any method based on language, library and purpose of modeling.\"\"\"\n",
        "\n",
        "# TODO: Utiliza una expresión regular para separar las palabras utilizando la librería re\n",
        "\n",
        "# Regex para separar las palabras\n",
        "pattern = r'\\b\\w+\\b'\n",
        "\n",
        "# Aplicamos la expresión regular para encontrar todas las palabras en el texto\n",
        "words = re.findall(pattern, text02)\n",
        "\n",
        "# Mostramos las palabras encontradas\n",
        "print(\"Palabras encontradas:\", words)\n"
      ],
      "metadata": {
        "id": "4p35jcqNOjIS",
        "colab": {
          "base_uri": "https://localhost:8080/"
        },
        "outputId": "03f0c143-dda3-42c5-927d-9de632642744"
      },
      "execution_count": null,
      "outputs": [
        {
          "output_type": "stream",
          "name": "stdout",
          "text": [
            "Palabras encontradas: ['There', 'are', 'multiple', 'ways', 'we', 'can', 'perform', 'tokenization', 'on', 'given', 'text', 'data', 'We', 'can', 'choose', 'any', 'method', 'based', 'on', 'language', 'library', 'and', 'purpose', 'of', 'modeling']\n"
          ]
        }
      ]
    },
    {
      "cell_type": "markdown",
      "source": [
        "### 3.1.3 Con NLTK\n",
        "\n",
        "El Natural Language Toolkit (NLTK) tiene la función `word_tokenize()` para la separación de palabras y `sent_tokenize()` para la separación de frases."
      ],
      "metadata": {
        "id": "lvz6jYyNPilD"
      }
    },
    {
      "cell_type": "code",
      "source": [
        "from nltk.tokenize import sent_tokenize, word_tokenize\n",
        "\n",
        "text03 = \"<p>This is the first sentence. A gallon-of-milk in the U.S. costs $2.99. Is this the third sentence? Yes, it is!</p>\"\n",
        "\n",
        "# Separar las frases\n",
        "nltk.download('punkt')\n",
        "\n",
        "# Separamos las frases utilizando sent_tokenize()\n",
        "sentences = sent_tokenize(text03)\n",
        "\n",
        "# Mostramos las frases separadas\n",
        "print(\"Frases separadas:\")\n",
        "for sentence in sentences:\n",
        "    print(sentence)"
      ],
      "metadata": {
        "id": "jv5XFZvFXn-z",
        "colab": {
          "base_uri": "https://localhost:8080/"
        },
        "outputId": "74869e3b-7aee-4bd4-c090-1539ab7fd7a8"
      },
      "execution_count": null,
      "outputs": [
        {
          "output_type": "stream",
          "name": "stdout",
          "text": [
            "Frases separadas:\n",
            "<p>This is the first sentence.\n",
            "A gallon-of-milk in the U.S. costs $2.99.\n",
            "Is this the third sentence?\n",
            "Yes, it is!</p>\n"
          ]
        },
        {
          "output_type": "stream",
          "name": "stderr",
          "text": [
            "[nltk_data] Downloading package punkt to /root/nltk_data...\n",
            "[nltk_data]   Package punkt is already up-to-date!\n"
          ]
        }
      ]
    },
    {
      "cell_type": "markdown",
      "source": [
        "## 3.2. Eliminación de números y símbolos. Conversión a minúsculas\n",
        "\n",
        "Como puede comprobarse, `word_tokenizer()` mantiene los signos de puntuación, así como los números y otros símbolos.\n",
        "\n",
        "Una estrategia para reducir el número de palabras/tokens es convertirlas a minúsculas, puesto que algunos signos de puntuación pueden modificar la letra inicial de las palabras. De esta forma, se reduce el número de variantes de una misma palabra."
      ],
      "metadata": {
        "id": "s0t3Vn3iXz7L"
      }
    },
    {
      "cell_type": "code",
      "source": [
        "import string\n",
        "\n",
        "def remove_tags (s):\n",
        "  # Eliminamos los tags html\n",
        "  return re.sub(r'<.*?>', '', s)\n",
        "\n",
        "# Eliminamos etiquetas, tokenizar, convertir a minúsculas y eliminar símbolos no alfabéticos y números:\n",
        "def tokenize_and_remove_punctuations(s):\n",
        "    # Eliminamos las etiquetas HTML\n",
        "    s = remove_tags(s)\n",
        "    s = s.lower()\n",
        "    s = s.replace('-', ' ')\n",
        "    # Tokenizamos el texto\n",
        "    tokens = nltk.word_tokenize(s)\n",
        "    # Convertimos a minúsculas y eliminar símbolos no alfabéticos y números\n",
        "    clean_tokens = [token.lower() for token in tokens if token.isalpha()]\n",
        "    return clean_tokens\n",
        "\n",
        "print((tokenize_and_remove_punctuations(text03)))"
      ],
      "metadata": {
        "id": "sPuWUEZqY8Sy",
        "colab": {
          "base_uri": "https://localhost:8080/"
        },
        "outputId": "77fff944-068a-49c7-e5eb-3afdf788d305"
      },
      "execution_count": null,
      "outputs": [
        {
          "output_type": "stream",
          "name": "stdout",
          "text": [
            "['this', 'is', 'the', 'first', 'sentence', 'a', 'gallon', 'of', 'milk', 'in', 'the', 'costs', 'is', 'this', 'the', 'third', 'sentence', 'yes', 'it', 'is']\n"
          ]
        }
      ]
    },
    {
      "cell_type": "markdown",
      "source": [
        "## 3.3. Palabras vacías\n",
        "\n",
        "Las *palabras vacías* (stopwords) son las palabras más comunes en cualquier idioma, tienen sentido gramatical pero tienen un significado limitado en el análisis de un texto. Estas palabras vacías incluyen artículos, preposiciones, conjunciones, pronombres, etc., y su eliminación reduce considerablemente el número de palabras.\n",
        "\n",
        "NLTK tiene listas de palabras vacías en 16 idiomas. En este caso, se debe cargar la lista en inglés."
      ],
      "metadata": {
        "id": "q6SsX7fWZBAx"
      }
    },
    {
      "cell_type": "code",
      "source": [
        "# TODO : dada una lista de tokens, elimina aquellos que sean palabras vacías o que tengan una longitud menor o igual a 2.\n",
        "from nltk.corpus import stopwords\n",
        "\n",
        "# Descargamos la lista de palabras vacías en inglés (una vez) y las cargamos\n",
        "nltk.download('stopwords')\n",
        "stop_words = set(stopwords.words('english'))\n",
        "\n",
        "def remove_stop_words(tokens):\n",
        "    # Filtramos palabras vacías y palabras con longitud menor o igual a 2\n",
        "    filtered_words = [word for word in tokens if word not in stop_words and len(word) > 2]\n",
        "    return filtered_words"
      ],
      "metadata": {
        "id": "lrdDwhjcX7qt",
        "colab": {
          "base_uri": "https://localhost:8080/"
        },
        "outputId": "5b532e06-5be5-4fb8-893a-c76e25df1832"
      },
      "execution_count": null,
      "outputs": [
        {
          "output_type": "stream",
          "name": "stderr",
          "text": [
            "[nltk_data] Downloading package stopwords to /root/nltk_data...\n",
            "[nltk_data]   Package stopwords is already up-to-date!\n"
          ]
        }
      ]
    },
    {
      "cell_type": "markdown",
      "source": [
        "## 3.4. Normalización\n",
        "\n",
        "Muchos idiomas contienen palabras derivadas de otros, y esto se conoce como [flexión](https://es.wikipedia.org/wiki/Flexi%C3%B3n_(ling%C3%BC%C3%ADstica)). La flexión es la modificación de una palabra para expresar diferentes categorías gramaticales como persona, número, género, etc.\n",
        "\n",
        "El tratamiento de esta flexión para llevar las palabras a una forma base se conoce como normalización de palabras. La normalización permite que, al buscar una palabra, la búsqueda se realice simultáneamente a través de todas sus flexiones.\n",
        "\n",
        "La **lematización** es el proceso de reducir la inflexión de las palabras para llevarlas a su forma original o raíz. El lema es la parte de la palabra a la que se añade la flexión.\n",
        "\n",
        "En NLTK existen diferentes lematizadores disponibles, aunque aquí utilizaremos el más conocido: el [algoritmo de Porter](https://es.wikipedia.org/wiki/Algoritmo_de_Porter).\n",
        "\n",
        "Puede encontrar más información sobre estos procesos en https://www.datacamp.com/community/tutorials/stemming-lemmatization-python."
      ],
      "metadata": {
        "id": "dr9eF7lzYZ5u"
      }
    },
    {
      "cell_type": "code",
      "source": [
        "from nltk.stem import PorterStemmer\n",
        "\n",
        "# Creamos un objeto PorterStemmer\n",
        "porter = PorterStemmer()\n",
        "\n",
        "# Obtenemos la versión normalizada de todos los tokens\n",
        "\n",
        "def stem_words(tokens):\n",
        "    stemmed_words = [porter.stem(word) for word in tokens]\n",
        "    return stemmed_words\n",
        "\n",
        "stem_words ( remove_stop_words(tokenize_and_remove_punctuations (text03)) )"
      ],
      "metadata": {
        "id": "YHndixioYivn",
        "colab": {
          "base_uri": "https://localhost:8080/"
        },
        "outputId": "f4b3b95c-9efa-4604-a6b3-8b091195ea13"
      },
      "execution_count": null,
      "outputs": [
        {
          "output_type": "execute_result",
          "data": {
            "text/plain": [
              "['first', 'sentenc', 'gallon', 'milk', 'cost', 'third', 'sentenc', 'ye']"
            ]
          },
          "metadata": {},
          "execution_count": 7
        }
      ]
    },
    {
      "cell_type": "markdown",
      "source": [
        "Una vez realizadas las operaciones básicas sobre el texto, es momento de reunirlo todo en la función `preprocess_data()` que recibe un array de pares `(documentId, text)` y aplica las transformaciones anteriormente descritas."
      ],
      "metadata": {
        "id": "T5KrogtUZX2q"
      }
    },
    {
      "cell_type": "code",
      "source": [
        "# Función para eliminar etiquetas HTML, tokenizar, convertir a minúsculas, eliminar símbolos no alfabéticos y números, y eliminar palabras vacías\n",
        "def preprocess_text(text, stem=True):\n",
        "    # Eliminamos las etiquetas HTML\n",
        "    text = re.sub(r'<.*?>', '', text)\n",
        "    # Tokenizamos el texto\n",
        "    tokens = nltk.word_tokenize(text)\n",
        "    # Convertimos a minúsculas y eliminamos los símbolos no alfabéticos y números\n",
        "    tokens = [token.lower() for token in tokens if token.isalpha()]\n",
        "    # Eliminamos las palabras vacías\n",
        "    stop_words = set(nltk.corpus.stopwords.words('english'))\n",
        "    tokens = [token for token in tokens if token not in stop_words and len(token) > 2]\n",
        "    return tokens\n",
        "\n",
        "# Función para lematizar los tokens\n",
        "def stem_words(tokens):\n",
        "    stemmed_words = [porter.stem(word) for word in tokens]\n",
        "    return stemmed_words\n",
        "\n",
        "def preprocess_data(contents, stem=True):\n",
        "    dataDict = {}\n",
        "    for documentId, text in contents:\n",
        "        # Preprocesamos el texto\n",
        "        tokens = preprocess_text(text)\n",
        "        # Lematizamos si es necesario\n",
        "        if stem:\n",
        "            tokens = stem_words(tokens)\n",
        "        # Agregamos el resultado al diccionario de datos\n",
        "        dataDict[documentId] = tokens\n",
        "    return dataDict"
      ],
      "metadata": {
        "id": "q4Aunp-6-iMz"
      },
      "execution_count": null,
      "outputs": []
    },
    {
      "cell_type": "code",
      "source": [
        "document_1 = \"I love watching movies when it's cold outside ;-)\"\n",
        "document_2 = \"Toy Story is the best animation movie ever, I love it!\"\n",
        "document_3 = \"Watching horror movies alone at night is really scary\"\n",
        "document_4 = \"He loves to watch films filled with suspense and unexpected plot twists\"\n",
        "document_5 = \"My mom loves to watch movies. My dad hates movie theaters. My brothers like any kind of movie. And I haven't watched a single movie since I got into college\"\n",
        "documents = [document_1, document_2, document_3, document_4, document_5]\n",
        "\n",
        "docIds = ['doc01','doc02','doc03','doc04','doc05']\n",
        "\n",
        "# Combinar docIds y documents\n",
        "document_list = list(zip(docIds, documents))\n",
        "\n",
        "print(\"Lista de documentos combinada con IDs:\")\n",
        "print(document_list)\n",
        "\n",
        "# TODO : preprocesar la lista de documentos de ejemplo\n",
        "data_docs = preprocess_data(document_list)\n",
        "\n",
        "print(\"\\nDocumentos preprocesados:\")\n",
        "print(data_docs)\n"
      ],
      "metadata": {
        "id": "I-5SSC26bKz_",
        "colab": {
          "base_uri": "https://localhost:8080/"
        },
        "outputId": "51ee7076-7cbe-428f-ddc0-471e6330a859"
      },
      "execution_count": null,
      "outputs": [
        {
          "output_type": "stream",
          "name": "stdout",
          "text": [
            "Lista de documentos combinada con IDs:\n",
            "[('doc01', \"I love watching movies when it's cold outside ;-)\"), ('doc02', 'Toy Story is the best animation movie ever, I love it!'), ('doc03', 'Watching horror movies alone at night is really scary'), ('doc04', 'He loves to watch films filled with suspense and unexpected plot twists'), ('doc05', \"My mom loves to watch movies. My dad hates movie theaters. My brothers like any kind of movie. And I haven't watched a single movie since I got into college\")]\n",
            "\n",
            "Documentos preprocesados:\n",
            "{'doc01': ['love', 'watch', 'movi', 'cold', 'outsid'], 'doc02': ['toy', 'stori', 'best', 'anim', 'movi', 'ever', 'love'], 'doc03': ['watch', 'horror', 'movi', 'alon', 'night', 'realli', 'scari'], 'doc04': ['love', 'watch', 'film', 'fill', 'suspens', 'unexpect', 'plot', 'twist'], 'doc05': ['mom', 'love', 'watch', 'movi', 'dad', 'hate', 'movi', 'theater', 'brother', 'like', 'kind', 'movi', 'watch', 'singl', 'movi', 'sinc', 'got', 'colleg']}\n"
          ]
        }
      ]
    },
    {
      "cell_type": "markdown",
      "source": [
        "## 3.5. Frecuencia de las palabras\n",
        "\n",
        "Ahora veremos la importancia de una palabra/token en los documentos.\n",
        "\n",
        "Lo primero es obtener un vocabulario, que no es más que la lista de todos los tokens únicos que aparecen en todos los documentos."
      ],
      "metadata": {
        "id": "CAI0lezFbiUD"
      }
    },
    {
      "cell_type": "code",
      "source": [
        "#TODO:\n",
        "def get_vocabulary(data):\n",
        "    # Creamos un conjunto para almacenar todos los tokens únicos\n",
        "    unique_tokens = set()\n",
        "    # Iteramos sobre los tokens de cada documento y agregarlos al conjunto\n",
        "    for doc_tokens in data.values():\n",
        "        unique_tokens.update(doc_tokens)\n",
        "    # Convertimos el conjunto a una lista y devolverla\n",
        "    return list(unique_tokens)\n",
        "\n",
        "# Obtenemos el vocabulario\n",
        "get_vocabulary(data_docs)"
      ],
      "metadata": {
        "colab": {
          "base_uri": "https://localhost:8080/"
        },
        "id": "vvxvh5yHnljH",
        "outputId": "4afac375-91a0-419f-9cc8-dedb82d71507"
      },
      "execution_count": null,
      "outputs": [
        {
          "output_type": "execute_result",
          "data": {
            "text/plain": [
              "['toy',\n",
              " 'watch',\n",
              " 'night',\n",
              " 'scari',\n",
              " 'suspens',\n",
              " 'horror',\n",
              " 'cold',\n",
              " 'alon',\n",
              " 'realli',\n",
              " 'movi',\n",
              " 'ever',\n",
              " 'twist',\n",
              " 'singl',\n",
              " 'anim',\n",
              " 'dad',\n",
              " 'got',\n",
              " 'fill',\n",
              " 'brother',\n",
              " 'theater',\n",
              " 'love',\n",
              " 'best',\n",
              " 'hate',\n",
              " 'outsid',\n",
              " 'colleg',\n",
              " 'like',\n",
              " 'unexpect',\n",
              " 'stori',\n",
              " 'film',\n",
              " 'mom',\n",
              " 'kind',\n",
              " 'sinc',\n",
              " 'plot']"
            ]
          },
          "metadata": {},
          "execution_count": 10
        }
      ]
    },
    {
      "cell_type": "markdown",
      "source": [
        "Para ello, podemos calcular la frecuencia de cada término contando el número de veces que aparece en cada documento, que será una medida de su peso o importancia.\n",
        "\n",
        "$TF (t, d) = f_{t, d}$ (número de repeticiones del término $t$ en el documento $d$)"
      ],
      "metadata": {
        "id": "CEwIlnanb4zL"
      }
    },
    {
      "cell_type": "code",
      "source": [
        "data_docs"
      ],
      "metadata": {
        "colab": {
          "base_uri": "https://localhost:8080/"
        },
        "id": "xgyHokE9qrNq",
        "outputId": "549550f3-bd04-4217-fe55-5dd6f0d93642"
      },
      "execution_count": null,
      "outputs": [
        {
          "output_type": "execute_result",
          "data": {
            "text/plain": [
              "{'doc01': ['love', 'watch', 'movi', 'cold', 'outsid'],\n",
              " 'doc02': ['toy', 'stori', 'best', 'anim', 'movi', 'ever', 'love'],\n",
              " 'doc03': ['watch', 'horror', 'movi', 'alon', 'night', 'realli', 'scari'],\n",
              " 'doc04': ['love',\n",
              "  'watch',\n",
              "  'film',\n",
              "  'fill',\n",
              "  'suspens',\n",
              "  'unexpect',\n",
              "  'plot',\n",
              "  'twist'],\n",
              " 'doc05': ['mom',\n",
              "  'love',\n",
              "  'watch',\n",
              "  'movi',\n",
              "  'dad',\n",
              "  'hate',\n",
              "  'movi',\n",
              "  'theater',\n",
              "  'brother',\n",
              "  'like',\n",
              "  'kind',\n",
              "  'movi',\n",
              "  'watch',\n",
              "  'singl',\n",
              "  'movi',\n",
              "  'sinc',\n",
              "  'got',\n",
              "  'colleg']}"
            ]
          },
          "metadata": {},
          "execution_count": 11
        }
      ]
    },
    {
      "cell_type": "code",
      "source": [
        "from nltk.probability import FreqDist\n",
        "\n",
        "# Calculamos el tf\n",
        "def calculate_tf(tokens):\n",
        "    tf_score = {}\n",
        "    return tf_score\n",
        "\n",
        "\n",
        "fdist = calculate_tf (data_docs['doc05'])\n",
        "fdist"
      ],
      "metadata": {
        "id": "nn5GCcoJcB5-",
        "colab": {
          "base_uri": "https://localhost:8080/"
        },
        "outputId": "51fd6bfd-d88c-4056-eaa0-108992fcfe07"
      },
      "execution_count": null,
      "outputs": [
        {
          "output_type": "execute_result",
          "data": {
            "text/plain": [
              "{}"
            ]
          },
          "metadata": {},
          "execution_count": 12
        }
      ]
    },
    {
      "cell_type": "code",
      "source": [
        "from nltk.probability import FreqDist\n",
        "\n",
        "def calculate_tf(tokens):\n",
        "    tf_score = {}\n",
        "    # Contamos las ocurrencias de cada término en el documento\n",
        "    for token in tokens:\n",
        "        tf_score[token] = tf_score.get(token, 0) + 1\n",
        "    return tf_score\n",
        "\n",
        "fdist = calculate_tf(data_docs['doc05'])\n",
        "print(fdist)\n"
      ],
      "metadata": {
        "colab": {
          "base_uri": "https://localhost:8080/"
        },
        "id": "lDxgv45Kp2SA",
        "outputId": "7d4224c0-f28a-48be-acf9-7b2a4641984b"
      },
      "execution_count": null,
      "outputs": [
        {
          "output_type": "stream",
          "name": "stdout",
          "text": [
            "{'mom': 1, 'love': 1, 'watch': 2, 'movi': 4, 'dad': 1, 'hate': 1, 'theater': 1, 'brother': 1, 'like': 1, 'kind': 1, 'singl': 1, 'sinc': 1, 'got': 1, 'colleg': 1}\n"
          ]
        }
      ]
    },
    {
      "cell_type": "markdown",
      "source": [
        "La **frecuencia inversa de documentos** para un término $t$ es el logaritmo (en este caso en base 2) del cociente entre el número de documentos y el número de documentos en los que aparece el término $t$.\n",
        "\n",
        "$ IDF (t) = log_{2} \\frac{N}{\\{d \\in D : t \\in d \\}} $\n",
        "\n",
        "Una puntuación más alta de TF*IDF indica que el término es más específico, mientras que una puntuación menor indica que es más genérico."
      ],
      "metadata": {
        "id": "VZgIcdp6cLuF"
      }
    },
    {
      "cell_type": "code",
      "source": [
        "import math\n",
        "\n",
        "# Calculamos el idf\n",
        "def calculate_idf(data):\n",
        "    idf_score = {}\n",
        "\n",
        "    # TODO: número de documentos\n",
        "    total_documents = len(data)\n",
        "\n",
        "    # TODO: obtener el vocabulario\n",
        "    all_words = set(word for doc_tokens in data.values() for word in doc_tokens)\n",
        "\n",
        "    for word in all_words:\n",
        "        word_count = 0\n",
        "        documents_with_term = 0\n",
        "        for token_list in data.values():\n",
        "            # TODO\n",
        "          if word in token_list:\n",
        "            documents_with_term += 1\n",
        "            # TODO: calcular idf\n",
        "        idf_score[word] = math.log2(total_documents / documents_with_term)\n",
        "    return idf_score\n",
        "\n",
        "\n",
        "idf_score = calculate_idf ( data_docs )\n",
        "idf_score"
      ],
      "metadata": {
        "id": "lpkaNmHccYOv",
        "colab": {
          "base_uri": "https://localhost:8080/"
        },
        "outputId": "587ddda5-b1b7-4835-99c7-8126b47c0c45"
      },
      "execution_count": null,
      "outputs": [
        {
          "output_type": "execute_result",
          "data": {
            "text/plain": [
              "{'toy': 2.321928094887362,\n",
              " 'watch': 0.32192809488736235,\n",
              " 'night': 2.321928094887362,\n",
              " 'scari': 2.321928094887362,\n",
              " 'suspens': 2.321928094887362,\n",
              " 'horror': 2.321928094887362,\n",
              " 'cold': 2.321928094887362,\n",
              " 'alon': 2.321928094887362,\n",
              " 'realli': 2.321928094887362,\n",
              " 'movi': 0.32192809488736235,\n",
              " 'ever': 2.321928094887362,\n",
              " 'twist': 2.321928094887362,\n",
              " 'singl': 2.321928094887362,\n",
              " 'anim': 2.321928094887362,\n",
              " 'dad': 2.321928094887362,\n",
              " 'got': 2.321928094887362,\n",
              " 'fill': 2.321928094887362,\n",
              " 'brother': 2.321928094887362,\n",
              " 'theater': 2.321928094887362,\n",
              " 'love': 0.32192809488736235,\n",
              " 'best': 2.321928094887362,\n",
              " 'hate': 2.321928094887362,\n",
              " 'outsid': 2.321928094887362,\n",
              " 'colleg': 2.321928094887362,\n",
              " 'like': 2.321928094887362,\n",
              " 'unexpect': 2.321928094887362,\n",
              " 'stori': 2.321928094887362,\n",
              " 'film': 2.321928094887362,\n",
              " 'mom': 2.321928094887362,\n",
              " 'kind': 2.321928094887362,\n",
              " 'sinc': 2.321928094887362,\n",
              " 'plot': 2.321928094887362}"
            ]
          },
          "metadata": {},
          "execution_count": 14
        }
      ]
    },
    {
      "cell_type": "code",
      "source": [
        "# Función que, dado una lista de documentos, devuelve el tf_idf\n",
        "def calculate_tfidf(data, idf_score):\n",
        "    scores = {}\n",
        "    for key, value in data.items():\n",
        "        # Calculamos TF para cada documento\n",
        "        tf_scores = {}\n",
        "        total_terms = len(value)\n",
        "        for term in set(value):\n",
        "            tf_scores[term] = value.count(term) / total_terms\n",
        "\n",
        "        # Calculamos TF-IDF para cada término\n",
        "        tfidf_scores = {}\n",
        "        for term, tf in tf_scores.items():\n",
        "            tfidf_scores[term] = tf * idf_score.get(term, 0)\n",
        "\n",
        "        scores[key] = tfidf_scores\n",
        "\n",
        "    return scores\n",
        "\n",
        "tfidf_score = calculate_tfidf ( data_docs, idf_score)\n",
        "tfidf_score"
      ],
      "metadata": {
        "id": "yXOFZfWEcnZX",
        "colab": {
          "base_uri": "https://localhost:8080/"
        },
        "outputId": "5ffbbbbe-20f5-49e7-bc69-edf12b396640"
      },
      "execution_count": null,
      "outputs": [
        {
          "output_type": "execute_result",
          "data": {
            "text/plain": [
              "{'doc01': {'cold': 0.46438561897747244,\n",
              "  'movi': 0.06438561897747247,\n",
              "  'watch': 0.06438561897747247,\n",
              "  'love': 0.06438561897747247,\n",
              "  'outsid': 0.46438561897747244},\n",
              " 'doc02': {'movi': 0.045989727841051764,\n",
              "  'ever': 0.33170401355533746,\n",
              "  'toy': 0.33170401355533746,\n",
              "  'stori': 0.33170401355533746,\n",
              "  'anim': 0.33170401355533746,\n",
              "  'love': 0.045989727841051764,\n",
              "  'best': 0.33170401355533746},\n",
              " 'doc03': {'alon': 0.33170401355533746,\n",
              "  'realli': 0.33170401355533746,\n",
              "  'movi': 0.045989727841051764,\n",
              "  'watch': 0.045989727841051764,\n",
              "  'night': 0.33170401355533746,\n",
              "  'scari': 0.33170401355533746,\n",
              "  'horror': 0.33170401355533746},\n",
              " 'doc04': {'fill': 0.2902410118609203,\n",
              "  'twist': 0.2902410118609203,\n",
              "  'watch': 0.040241011860920294,\n",
              "  'unexpect': 0.2902410118609203,\n",
              "  'film': 0.2902410118609203,\n",
              "  'suspens': 0.2902410118609203,\n",
              "  'love': 0.040241011860920294,\n",
              "  'plot': 0.2902410118609203},\n",
              " 'doc05': {'like': 0.1289960052715201,\n",
              "  'got': 0.1289960052715201,\n",
              "  'movi': 0.07153957664163607,\n",
              "  'sinc': 0.1289960052715201,\n",
              "  'brother': 0.1289960052715201,\n",
              "  'watch': 0.035769788320818036,\n",
              "  'kind': 0.1289960052715201,\n",
              "  'singl': 0.1289960052715201,\n",
              "  'mom': 0.1289960052715201,\n",
              "  'dad': 0.1289960052715201,\n",
              "  'theater': 0.1289960052715201,\n",
              "  'love': 0.017884894160409018,\n",
              "  'hate': 0.1289960052715201,\n",
              "  'colleg': 0.1289960052715201}}"
            ]
          },
          "metadata": {},
          "execution_count": 15
        }
      ]
    },
    {
      "cell_type": "markdown",
      "source": [
        "## 3.6. Generación del espacio vectorial\n",
        "\n",
        "Utilizando las funciones anteriores, construiremos la matriz de documentos (como filas) y términos (como columnas). Para facilitar esta tarea, utilizaremos una estructura de datos ya conocida, el **dataframe**."
      ],
      "metadata": {
        "id": "vidhyejKhmcN"
      }
    },
    {
      "cell_type": "code",
      "source": [
        "import pandas as pd\n",
        "\n",
        "def generate_dataframe(data):\n",
        "    # Obtenemos el vocabulario\n",
        "    vocabulary = get_vocabulary(data)\n",
        "\n",
        "    # Calculamos el TF-IDF\n",
        "    tf_idf_score = calculate_tfidf(data, idf_score)\n",
        "\n",
        "    # Creamos una lista para almacenar los datos del DataFrame\n",
        "    table = []\n",
        "\n",
        "    # Iteramos sobre cada documento\n",
        "    for doc, tfidf_scores in tf_idf_score.items():\n",
        "        # Creamos una lista para almacenar las puntuaciones TF-IDF para este documento\n",
        "        row = []\n",
        "        # Iteramos sobre cada término en el vocabulario\n",
        "        for term in vocabulary:\n",
        "            # Obtenemos la puntuación TF-IDF para este término en este documento (o 0 si no está presente)\n",
        "            tfidf_score = tfidf_scores.get(term, 0)\n",
        "            # Puntuación ala fila actual\n",
        "            row.append(tfidf_score)\n",
        "        # Fila ala tabla\n",
        "        table.append(row)\n",
        "\n",
        "    # DataFrame con los datos\n",
        "    df = pd.DataFrame(table, columns=vocabulary, index=tf_idf_score.keys())\n",
        "\n",
        "    return df\n",
        "\n",
        "# Generamos el DataFrame\n",
        "df_data = generate_dataframe (data_docs)\n",
        "df_data.head(5)\n"
      ],
      "metadata": {
        "id": "R_1RTvn2hpqz",
        "colab": {
          "base_uri": "https://localhost:8080/",
          "height": 255
        },
        "outputId": "7ef013df-980d-4359-c4b3-c01173e67585"
      },
      "execution_count": null,
      "outputs": [
        {
          "output_type": "execute_result",
          "data": {
            "text/plain": [
              "            toy     watch     night     scari   suspens    horror      cold  \\\n",
              "doc01  0.000000  0.064386  0.000000  0.000000  0.000000  0.000000  0.464386   \n",
              "doc02  0.331704  0.000000  0.000000  0.000000  0.000000  0.000000  0.000000   \n",
              "doc03  0.000000  0.045990  0.331704  0.331704  0.000000  0.331704  0.000000   \n",
              "doc04  0.000000  0.040241  0.000000  0.000000  0.290241  0.000000  0.000000   \n",
              "doc05  0.000000  0.035770  0.000000  0.000000  0.000000  0.000000  0.000000   \n",
              "\n",
              "           alon    realli      movi  ...    outsid    colleg      like  \\\n",
              "doc01  0.000000  0.000000  0.064386  ...  0.464386  0.000000  0.000000   \n",
              "doc02  0.000000  0.000000  0.045990  ...  0.000000  0.000000  0.000000   \n",
              "doc03  0.331704  0.331704  0.045990  ...  0.000000  0.000000  0.000000   \n",
              "doc04  0.000000  0.000000  0.000000  ...  0.000000  0.000000  0.000000   \n",
              "doc05  0.000000  0.000000  0.071540  ...  0.000000  0.128996  0.128996   \n",
              "\n",
              "       unexpect     stori      film       mom      kind      sinc      plot  \n",
              "doc01  0.000000  0.000000  0.000000  0.000000  0.000000  0.000000  0.000000  \n",
              "doc02  0.000000  0.331704  0.000000  0.000000  0.000000  0.000000  0.000000  \n",
              "doc03  0.000000  0.000000  0.000000  0.000000  0.000000  0.000000  0.000000  \n",
              "doc04  0.290241  0.000000  0.290241  0.000000  0.000000  0.000000  0.290241  \n",
              "doc05  0.000000  0.000000  0.000000  0.128996  0.128996  0.128996  0.000000  \n",
              "\n",
              "[5 rows x 32 columns]"
            ],
            "text/html": [
              "\n",
              "  <div id=\"df-332c261f-a3e2-46df-90f3-f8e51454983a\" class=\"colab-df-container\">\n",
              "    <div>\n",
              "<style scoped>\n",
              "    .dataframe tbody tr th:only-of-type {\n",
              "        vertical-align: middle;\n",
              "    }\n",
              "\n",
              "    .dataframe tbody tr th {\n",
              "        vertical-align: top;\n",
              "    }\n",
              "\n",
              "    .dataframe thead th {\n",
              "        text-align: right;\n",
              "    }\n",
              "</style>\n",
              "<table border=\"1\" class=\"dataframe\">\n",
              "  <thead>\n",
              "    <tr style=\"text-align: right;\">\n",
              "      <th></th>\n",
              "      <th>toy</th>\n",
              "      <th>watch</th>\n",
              "      <th>night</th>\n",
              "      <th>scari</th>\n",
              "      <th>suspens</th>\n",
              "      <th>horror</th>\n",
              "      <th>cold</th>\n",
              "      <th>alon</th>\n",
              "      <th>realli</th>\n",
              "      <th>movi</th>\n",
              "      <th>...</th>\n",
              "      <th>outsid</th>\n",
              "      <th>colleg</th>\n",
              "      <th>like</th>\n",
              "      <th>unexpect</th>\n",
              "      <th>stori</th>\n",
              "      <th>film</th>\n",
              "      <th>mom</th>\n",
              "      <th>kind</th>\n",
              "      <th>sinc</th>\n",
              "      <th>plot</th>\n",
              "    </tr>\n",
              "  </thead>\n",
              "  <tbody>\n",
              "    <tr>\n",
              "      <th>doc01</th>\n",
              "      <td>0.000000</td>\n",
              "      <td>0.064386</td>\n",
              "      <td>0.000000</td>\n",
              "      <td>0.000000</td>\n",
              "      <td>0.000000</td>\n",
              "      <td>0.000000</td>\n",
              "      <td>0.464386</td>\n",
              "      <td>0.000000</td>\n",
              "      <td>0.000000</td>\n",
              "      <td>0.064386</td>\n",
              "      <td>...</td>\n",
              "      <td>0.464386</td>\n",
              "      <td>0.000000</td>\n",
              "      <td>0.000000</td>\n",
              "      <td>0.000000</td>\n",
              "      <td>0.000000</td>\n",
              "      <td>0.000000</td>\n",
              "      <td>0.000000</td>\n",
              "      <td>0.000000</td>\n",
              "      <td>0.000000</td>\n",
              "      <td>0.000000</td>\n",
              "    </tr>\n",
              "    <tr>\n",
              "      <th>doc02</th>\n",
              "      <td>0.331704</td>\n",
              "      <td>0.000000</td>\n",
              "      <td>0.000000</td>\n",
              "      <td>0.000000</td>\n",
              "      <td>0.000000</td>\n",
              "      <td>0.000000</td>\n",
              "      <td>0.000000</td>\n",
              "      <td>0.000000</td>\n",
              "      <td>0.000000</td>\n",
              "      <td>0.045990</td>\n",
              "      <td>...</td>\n",
              "      <td>0.000000</td>\n",
              "      <td>0.000000</td>\n",
              "      <td>0.000000</td>\n",
              "      <td>0.000000</td>\n",
              "      <td>0.331704</td>\n",
              "      <td>0.000000</td>\n",
              "      <td>0.000000</td>\n",
              "      <td>0.000000</td>\n",
              "      <td>0.000000</td>\n",
              "      <td>0.000000</td>\n",
              "    </tr>\n",
              "    <tr>\n",
              "      <th>doc03</th>\n",
              "      <td>0.000000</td>\n",
              "      <td>0.045990</td>\n",
              "      <td>0.331704</td>\n",
              "      <td>0.331704</td>\n",
              "      <td>0.000000</td>\n",
              "      <td>0.331704</td>\n",
              "      <td>0.000000</td>\n",
              "      <td>0.331704</td>\n",
              "      <td>0.331704</td>\n",
              "      <td>0.045990</td>\n",
              "      <td>...</td>\n",
              "      <td>0.000000</td>\n",
              "      <td>0.000000</td>\n",
              "      <td>0.000000</td>\n",
              "      <td>0.000000</td>\n",
              "      <td>0.000000</td>\n",
              "      <td>0.000000</td>\n",
              "      <td>0.000000</td>\n",
              "      <td>0.000000</td>\n",
              "      <td>0.000000</td>\n",
              "      <td>0.000000</td>\n",
              "    </tr>\n",
              "    <tr>\n",
              "      <th>doc04</th>\n",
              "      <td>0.000000</td>\n",
              "      <td>0.040241</td>\n",
              "      <td>0.000000</td>\n",
              "      <td>0.000000</td>\n",
              "      <td>0.290241</td>\n",
              "      <td>0.000000</td>\n",
              "      <td>0.000000</td>\n",
              "      <td>0.000000</td>\n",
              "      <td>0.000000</td>\n",
              "      <td>0.000000</td>\n",
              "      <td>...</td>\n",
              "      <td>0.000000</td>\n",
              "      <td>0.000000</td>\n",
              "      <td>0.000000</td>\n",
              "      <td>0.290241</td>\n",
              "      <td>0.000000</td>\n",
              "      <td>0.290241</td>\n",
              "      <td>0.000000</td>\n",
              "      <td>0.000000</td>\n",
              "      <td>0.000000</td>\n",
              "      <td>0.290241</td>\n",
              "    </tr>\n",
              "    <tr>\n",
              "      <th>doc05</th>\n",
              "      <td>0.000000</td>\n",
              "      <td>0.035770</td>\n",
              "      <td>0.000000</td>\n",
              "      <td>0.000000</td>\n",
              "      <td>0.000000</td>\n",
              "      <td>0.000000</td>\n",
              "      <td>0.000000</td>\n",
              "      <td>0.000000</td>\n",
              "      <td>0.000000</td>\n",
              "      <td>0.071540</td>\n",
              "      <td>...</td>\n",
              "      <td>0.000000</td>\n",
              "      <td>0.128996</td>\n",
              "      <td>0.128996</td>\n",
              "      <td>0.000000</td>\n",
              "      <td>0.000000</td>\n",
              "      <td>0.000000</td>\n",
              "      <td>0.128996</td>\n",
              "      <td>0.128996</td>\n",
              "      <td>0.128996</td>\n",
              "      <td>0.000000</td>\n",
              "    </tr>\n",
              "  </tbody>\n",
              "</table>\n",
              "<p>5 rows × 32 columns</p>\n",
              "</div>\n",
              "    <div class=\"colab-df-buttons\">\n",
              "\n",
              "  <div class=\"colab-df-container\">\n",
              "    <button class=\"colab-df-convert\" onclick=\"convertToInteractive('df-332c261f-a3e2-46df-90f3-f8e51454983a')\"\n",
              "            title=\"Convert this dataframe to an interactive table.\"\n",
              "            style=\"display:none;\">\n",
              "\n",
              "  <svg xmlns=\"http://www.w3.org/2000/svg\" height=\"24px\" viewBox=\"0 -960 960 960\">\n",
              "    <path d=\"M120-120v-720h720v720H120Zm60-500h600v-160H180v160Zm220 220h160v-160H400v160Zm0 220h160v-160H400v160ZM180-400h160v-160H180v160Zm440 0h160v-160H620v160ZM180-180h160v-160H180v160Zm440 0h160v-160H620v160Z\"/>\n",
              "  </svg>\n",
              "    </button>\n",
              "\n",
              "  <style>\n",
              "    .colab-df-container {\n",
              "      display:flex;\n",
              "      gap: 12px;\n",
              "    }\n",
              "\n",
              "    .colab-df-convert {\n",
              "      background-color: #E8F0FE;\n",
              "      border: none;\n",
              "      border-radius: 50%;\n",
              "      cursor: pointer;\n",
              "      display: none;\n",
              "      fill: #1967D2;\n",
              "      height: 32px;\n",
              "      padding: 0 0 0 0;\n",
              "      width: 32px;\n",
              "    }\n",
              "\n",
              "    .colab-df-convert:hover {\n",
              "      background-color: #E2EBFA;\n",
              "      box-shadow: 0px 1px 2px rgba(60, 64, 67, 0.3), 0px 1px 3px 1px rgba(60, 64, 67, 0.15);\n",
              "      fill: #174EA6;\n",
              "    }\n",
              "\n",
              "    .colab-df-buttons div {\n",
              "      margin-bottom: 4px;\n",
              "    }\n",
              "\n",
              "    [theme=dark] .colab-df-convert {\n",
              "      background-color: #3B4455;\n",
              "      fill: #D2E3FC;\n",
              "    }\n",
              "\n",
              "    [theme=dark] .colab-df-convert:hover {\n",
              "      background-color: #434B5C;\n",
              "      box-shadow: 0px 1px 3px 1px rgba(0, 0, 0, 0.15);\n",
              "      filter: drop-shadow(0px 1px 2px rgba(0, 0, 0, 0.3));\n",
              "      fill: #FFFFFF;\n",
              "    }\n",
              "  </style>\n",
              "\n",
              "    <script>\n",
              "      const buttonEl =\n",
              "        document.querySelector('#df-332c261f-a3e2-46df-90f3-f8e51454983a button.colab-df-convert');\n",
              "      buttonEl.style.display =\n",
              "        google.colab.kernel.accessAllowed ? 'block' : 'none';\n",
              "\n",
              "      async function convertToInteractive(key) {\n",
              "        const element = document.querySelector('#df-332c261f-a3e2-46df-90f3-f8e51454983a');\n",
              "        const dataTable =\n",
              "          await google.colab.kernel.invokeFunction('convertToInteractive',\n",
              "                                                    [key], {});\n",
              "        if (!dataTable) return;\n",
              "\n",
              "        const docLinkHtml = 'Like what you see? Visit the ' +\n",
              "          '<a target=\"_blank\" href=https://colab.research.google.com/notebooks/data_table.ipynb>data table notebook</a>'\n",
              "          + ' to learn more about interactive tables.';\n",
              "        element.innerHTML = '';\n",
              "        dataTable['output_type'] = 'display_data';\n",
              "        await google.colab.output.renderOutput(dataTable, element);\n",
              "        const docLink = document.createElement('div');\n",
              "        docLink.innerHTML = docLinkHtml;\n",
              "        element.appendChild(docLink);\n",
              "      }\n",
              "    </script>\n",
              "  </div>\n",
              "\n",
              "\n",
              "<div id=\"df-fb726421-4ed5-4417-b555-7d6688fc252d\">\n",
              "  <button class=\"colab-df-quickchart\" onclick=\"quickchart('df-fb726421-4ed5-4417-b555-7d6688fc252d')\"\n",
              "            title=\"Suggest charts\"\n",
              "            style=\"display:none;\">\n",
              "\n",
              "<svg xmlns=\"http://www.w3.org/2000/svg\" height=\"24px\"viewBox=\"0 0 24 24\"\n",
              "     width=\"24px\">\n",
              "    <g>\n",
              "        <path d=\"M19 3H5c-1.1 0-2 .9-2 2v14c0 1.1.9 2 2 2h14c1.1 0 2-.9 2-2V5c0-1.1-.9-2-2-2zM9 17H7v-7h2v7zm4 0h-2V7h2v10zm4 0h-2v-4h2v4z\"/>\n",
              "    </g>\n",
              "</svg>\n",
              "  </button>\n",
              "\n",
              "<style>\n",
              "  .colab-df-quickchart {\n",
              "      --bg-color: #E8F0FE;\n",
              "      --fill-color: #1967D2;\n",
              "      --hover-bg-color: #E2EBFA;\n",
              "      --hover-fill-color: #174EA6;\n",
              "      --disabled-fill-color: #AAA;\n",
              "      --disabled-bg-color: #DDD;\n",
              "  }\n",
              "\n",
              "  [theme=dark] .colab-df-quickchart {\n",
              "      --bg-color: #3B4455;\n",
              "      --fill-color: #D2E3FC;\n",
              "      --hover-bg-color: #434B5C;\n",
              "      --hover-fill-color: #FFFFFF;\n",
              "      --disabled-bg-color: #3B4455;\n",
              "      --disabled-fill-color: #666;\n",
              "  }\n",
              "\n",
              "  .colab-df-quickchart {\n",
              "    background-color: var(--bg-color);\n",
              "    border: none;\n",
              "    border-radius: 50%;\n",
              "    cursor: pointer;\n",
              "    display: none;\n",
              "    fill: var(--fill-color);\n",
              "    height: 32px;\n",
              "    padding: 0;\n",
              "    width: 32px;\n",
              "  }\n",
              "\n",
              "  .colab-df-quickchart:hover {\n",
              "    background-color: var(--hover-bg-color);\n",
              "    box-shadow: 0 1px 2px rgba(60, 64, 67, 0.3), 0 1px 3px 1px rgba(60, 64, 67, 0.15);\n",
              "    fill: var(--button-hover-fill-color);\n",
              "  }\n",
              "\n",
              "  .colab-df-quickchart-complete:disabled,\n",
              "  .colab-df-quickchart-complete:disabled:hover {\n",
              "    background-color: var(--disabled-bg-color);\n",
              "    fill: var(--disabled-fill-color);\n",
              "    box-shadow: none;\n",
              "  }\n",
              "\n",
              "  .colab-df-spinner {\n",
              "    border: 2px solid var(--fill-color);\n",
              "    border-color: transparent;\n",
              "    border-bottom-color: var(--fill-color);\n",
              "    animation:\n",
              "      spin 1s steps(1) infinite;\n",
              "  }\n",
              "\n",
              "  @keyframes spin {\n",
              "    0% {\n",
              "      border-color: transparent;\n",
              "      border-bottom-color: var(--fill-color);\n",
              "      border-left-color: var(--fill-color);\n",
              "    }\n",
              "    20% {\n",
              "      border-color: transparent;\n",
              "      border-left-color: var(--fill-color);\n",
              "      border-top-color: var(--fill-color);\n",
              "    }\n",
              "    30% {\n",
              "      border-color: transparent;\n",
              "      border-left-color: var(--fill-color);\n",
              "      border-top-color: var(--fill-color);\n",
              "      border-right-color: var(--fill-color);\n",
              "    }\n",
              "    40% {\n",
              "      border-color: transparent;\n",
              "      border-right-color: var(--fill-color);\n",
              "      border-top-color: var(--fill-color);\n",
              "    }\n",
              "    60% {\n",
              "      border-color: transparent;\n",
              "      border-right-color: var(--fill-color);\n",
              "    }\n",
              "    80% {\n",
              "      border-color: transparent;\n",
              "      border-right-color: var(--fill-color);\n",
              "      border-bottom-color: var(--fill-color);\n",
              "    }\n",
              "    90% {\n",
              "      border-color: transparent;\n",
              "      border-bottom-color: var(--fill-color);\n",
              "    }\n",
              "  }\n",
              "</style>\n",
              "\n",
              "  <script>\n",
              "    async function quickchart(key) {\n",
              "      const quickchartButtonEl =\n",
              "        document.querySelector('#' + key + ' button');\n",
              "      quickchartButtonEl.disabled = true;  // To prevent multiple clicks.\n",
              "      quickchartButtonEl.classList.add('colab-df-spinner');\n",
              "      try {\n",
              "        const charts = await google.colab.kernel.invokeFunction(\n",
              "            'suggestCharts', [key], {});\n",
              "      } catch (error) {\n",
              "        console.error('Error during call to suggestCharts:', error);\n",
              "      }\n",
              "      quickchartButtonEl.classList.remove('colab-df-spinner');\n",
              "      quickchartButtonEl.classList.add('colab-df-quickchart-complete');\n",
              "    }\n",
              "    (() => {\n",
              "      let quickchartButtonEl =\n",
              "        document.querySelector('#df-fb726421-4ed5-4417-b555-7d6688fc252d button');\n",
              "      quickchartButtonEl.style.display =\n",
              "        google.colab.kernel.accessAllowed ? 'block' : 'none';\n",
              "    })();\n",
              "  </script>\n",
              "</div>\n",
              "    </div>\n",
              "  </div>\n"
            ],
            "application/vnd.google.colaboratory.intrinsic+json": {
              "type": "dataframe",
              "variable_name": "df_data"
            }
          },
          "metadata": {},
          "execution_count": 16
        }
      ]
    },
    {
      "cell_type": "markdown",
      "source": [
        "## 3.7. Generar el índice invertido\n",
        "\n",
        "De forma similar, generaremos un índice invertido que almacenaremos en una estructura de datos Python: el diccionario."
      ],
      "metadata": {
        "id": "GymfxNxAh9eZ"
      }
    },
    {
      "cell_type": "code",
      "source": [
        "#Función para generar un índice invertido\n",
        "\n",
        "def generate_inverted_index(data):\n",
        "    # Obtenemos el vocabulario\n",
        "    all_words = set(word for doc_tokens in data.values() for word in doc_tokens)\n",
        "\n",
        "    # Inicializamos el índice invertido como un diccionario vacío\n",
        "    index = {}\n",
        "\n",
        "    # Iteramos sobre cada término en el vocabulario\n",
        "    for word in all_words:\n",
        "        # Inicializamos la lista de documentos que contienen el término como vacía\n",
        "        index[word] = []\n",
        "        # Iteramos sobre cada documento y sus tokens\n",
        "        for doc, tokens in data.items():\n",
        "            # Si el término está presente en los tokens del documento, se agrega el documento al índice invertido\n",
        "            if word in tokens:\n",
        "                index[word].append(doc)\n",
        "\n",
        "    return index\n",
        "\n",
        "# Generamos el índice invertido\n",
        "inverted_index = generate_inverted_index(data_docs)\n",
        "print(inverted_index)"
      ],
      "metadata": {
        "id": "x-BOalcMh_RZ",
        "colab": {
          "base_uri": "https://localhost:8080/"
        },
        "outputId": "71f2295e-bcb0-44d9-e72a-194abc316d5a"
      },
      "execution_count": null,
      "outputs": [
        {
          "output_type": "stream",
          "name": "stdout",
          "text": [
            "{'toy': ['doc02'], 'watch': ['doc01', 'doc03', 'doc04', 'doc05'], 'night': ['doc03'], 'scari': ['doc03'], 'suspens': ['doc04'], 'horror': ['doc03'], 'cold': ['doc01'], 'alon': ['doc03'], 'realli': ['doc03'], 'movi': ['doc01', 'doc02', 'doc03', 'doc05'], 'ever': ['doc02'], 'twist': ['doc04'], 'singl': ['doc05'], 'anim': ['doc02'], 'dad': ['doc05'], 'got': ['doc05'], 'fill': ['doc04'], 'brother': ['doc05'], 'theater': ['doc05'], 'love': ['doc01', 'doc02', 'doc04', 'doc05'], 'best': ['doc02'], 'hate': ['doc05'], 'outsid': ['doc01'], 'colleg': ['doc05'], 'like': ['doc05'], 'unexpect': ['doc04'], 'stori': ['doc02'], 'film': ['doc04'], 'mom': ['doc05'], 'kind': ['doc05'], 'sinc': ['doc05'], 'plot': ['doc04']}\n"
          ]
        }
      ]
    },
    {
      "cell_type": "markdown",
      "source": [
        "## 3.8. Resolución de consultas\n",
        "\n",
        "Resolveremos consultas (obtendremos los documentos más relevantes) considerando la consulta como un vector y comparándolo con el conjunto de documentos mediante la **similitud del coseno**.\n",
        "\n",
        "Para ello utilizaremos la librería [sklearn](https://scikit-learn.org/stable/), aunque sólo utilizaremos la funcionalidad para calcular la similitud del coseno."
      ],
      "metadata": {
        "id": "7jqC28-FiZJw"
      }
    },
    {
      "cell_type": "code",
      "source": [
        "# Dataframe para a la consulta\n",
        "\n",
        "q = \"I watched alone a horror movie\"\n",
        "\n",
        "def generate_query_dataframe(vocabulary, q):\n",
        "    # Preprocesamos las palabras de la consulta\n",
        "    query_tokens = preprocess_text(q)\n",
        "\n",
        "    # DataFrame con la misma estructura que los documentos\n",
        "    table = []\n",
        "    for term in vocabulary:\n",
        "        # Si el término está en los tokens de la consulta, poner un 1, de lo contrario un 0\n",
        "        if term in query_tokens:\n",
        "            table.append(1)\n",
        "        else:\n",
        "            table.append(0)\n",
        "\n",
        "    # DataFrame con los datos\n",
        "    df = pd.DataFrame([table], columns=vocabulary)\n",
        "\n",
        "    return df\n",
        "\n",
        "#DataFrame para la consulta\n",
        "df_query = generate_query_dataframe(get_vocabulary(data_docs), q)\n",
        "print(df_query.head())\n"
      ],
      "metadata": {
        "id": "hktKK1oOieJ3",
        "colab": {
          "base_uri": "https://localhost:8080/"
        },
        "outputId": "27916532-0db5-4a10-9ca0-406bf01339f3"
      },
      "execution_count": null,
      "outputs": [
        {
          "output_type": "stream",
          "name": "stdout",
          "text": [
            "   toy  watch  night  scari  suspens  horror  cold  alon  realli  movi  ...  \\\n",
            "0    0      0      0      0        0       1     0     0       0     0  ...   \n",
            "\n",
            "   outsid  colleg  like  unexpect  stori  film  mom  kind  sinc  plot  \n",
            "0       0       0     0         0      0     0    0     0     0     0  \n",
            "\n",
            "[1 rows x 32 columns]\n"
          ]
        }
      ]
    },
    {
      "cell_type": "code",
      "source": [
        "from sklearn.metrics.pairwise import cosine_similarity\n",
        "import numpy as np\n",
        "\n",
        "# Calculamos la similitud del coseno e indicar qué documento es el más cercano a la consulta\n",
        "cosine_similarities = cosine_similarity(df_query, df_data)\n",
        "\n",
        "# El índice del documento más cercano a la consulta (el que tiene la similitud del coseno más alta)\n",
        "most_similar_doc_index = np.argmax(cosine_similarities)\n",
        "\n",
        "# Imprimimos el documento más cercano a la consulta\n",
        "print(\"El documento más cercano a la consulta es:\", list(data_docs.keys())[most_similar_doc_index])\n"
      ],
      "metadata": {
        "id": "BApBEYsUiver",
        "colab": {
          "base_uri": "https://localhost:8080/"
        },
        "outputId": "fc2bfcb6-4a0e-46ae-d99f-e0d1da6c998e"
      },
      "execution_count": null,
      "outputs": [
        {
          "output_type": "stream",
          "name": "stdout",
          "text": [
            "El documento más cercano a la consulta es: doc03\n"
          ]
        }
      ]
    },
    {
      "cell_type": "markdown",
      "source": [
        "# Ejercicio 4\n",
        "\n",
        "ClinicalTrials.gov es un registro de base de datos online mantenido por los Institutos Nacional de Salud de Estados Unidos (NIH). Contiene información sobre estudios clínicos de todo el mundo, incluyendo detalles sobre los objetivos, participantes, métodos, resultados y otras informaciones relevantes sobre los estudios.\n",
        "\n",
        "A través de su API abierta, obtendremos información sobre ensayos clínicos reales.  https://classic.clinicaltrials.gov/api/gui/ref/api_urls#urlParams\n",
        "\n",
        "\n",
        "Una API (interfaz de programación de aplicaciones) es un conjunto de herramientas y protocolos que permiten a diferentes programas informáticos comunicarse entre sí y compartir datos o funcionalidades de forma estandarizada y controlada."
      ],
      "metadata": {
        "id": "LxG9is4Vi4Z9"
      }
    },
    {
      "cell_type": "code",
      "source": [
        "import requests\n",
        "import pandas as pd\n",
        "\n",
        "# Define la URL base para la API de ClinicalTrials.gov\n",
        "base_url = 'https://clinicaltrials.gov/api/v2/studies?'\n",
        "\n",
        "# Define tus parámetros de búsqueda\n",
        "search_term = 'diabetes' # Cambia esto por tu término de búsqueda deseado\n",
        "max_studies = 15 # Número máximo de estudios a recuperar\n",
        "\n",
        "# Define los campos que deseas recuperar\n",
        "fields = [\n",
        "     'NCTId', # Identificador de ClinicalTrials.gov\n",
        "     'BriefTitle', # Título breve del estudio\n",
        "     'Condition', # Condición o enfermedad objeto de estudio\n",
        "     'InterventionName', # Nombre de la intervención (si se aplica)\n",
        "     'Phase', # Fase del estudio\n",
        "     'OverallStatus' # Estado general del estudio\n",
        "]"
      ],
      "metadata": {
        "id": "EpVOYRrOfZIN"
      },
      "execution_count": null,
      "outputs": []
    },
    {
      "cell_type": "code",
      "source": [
        "# TODO:Define los parámetros para la solicitud en la API\n",
        "params = {\n",
        "    'query.cond': search_term,  # Término de búsqueda deseado\n",
        "    'pageSize': max_studies,  # Número máximo de estudios a recuperar\n",
        "    'fields': ','.join(fields),  # Campos a recuperar\n",
        "}"
      ],
      "metadata": {
        "id": "NbdyDOzuxGRu"
      },
      "execution_count": null,
      "outputs": []
    },
    {
      "cell_type": "code",
      "source": [
        "# TODO:\n",
        "# La solicitud en la API\n",
        "response = requests.get(base_url, params=params)"
      ],
      "metadata": {
        "id": "BqUzD4LxxH5f"
      },
      "execution_count": null,
      "outputs": []
    },
    {
      "cell_type": "code",
      "source": [
        "# TODO:\n",
        "if response.status_code == 200:\n",
        "    # Analiza la respuesta JSON\n",
        "    data = response.json()\n",
        "\n",
        "    # Obtén la lista de estudios desde los datos analizados\n",
        "    studies = data['studies']\n",
        "\n",
        "    # Construye un DataFrame con los resultados\n",
        "    df = pd.DataFrame(studies)\n",
        "else:\n",
        "    print(\"No se ha podido obtener ningún estudio clínico.\")"
      ],
      "metadata": {
        "id": "9Ly2Vc4erPiX"
      },
      "execution_count": null,
      "outputs": []
    },
    {
      "cell_type": "code",
      "source": [
        "# TODO: Muestra los 10 primeros resultados\n",
        "print(df.head(10))"
      ],
      "metadata": {
        "id": "WJmIiDtpwEy8",
        "colab": {
          "base_uri": "https://localhost:8080/"
        },
        "outputId": "1c334e97-8a84-4e5b-d9c0-c89b3936fd66"
      },
      "execution_count": null,
      "outputs": [
        {
          "output_type": "stream",
          "name": "stdout",
          "text": [
            "                                     protocolSection\n",
            "0  {'identificationModule': {'nctId': 'NCT0490263...\n",
            "1  {'identificationModule': {'nctId': 'NCT0351423...\n",
            "2  {'identificationModule': {'nctId': 'NCT0130033...\n",
            "3  {'identificationModule': {'nctId': 'NCT0524323...\n",
            "4  {'identificationModule': {'nctId': 'NCT0252493...\n",
            "5  {'identificationModule': {'nctId': 'NCT0173180...\n",
            "6  {'identificationModule': {'nctId': 'NCT0323590...\n",
            "7  {'identificationModule': {'nctId': 'NCT0063980...\n",
            "8  {'identificationModule': {'nctId': 'NCT0529380...\n",
            "9  {'identificationModule': {'nctId': 'NCT0417450...\n"
          ]
        }
      ]
    },
    {
      "cell_type": "code",
      "source": [
        "#TODO: qué dimensiones tiene el dataset\n",
        "dimensiones = df.shape\n",
        "print(\"Dimensiones del dataset:\", dimensiones)"
      ],
      "metadata": {
        "id": "560OiZy1wg-4",
        "colab": {
          "base_uri": "https://localhost:8080/"
        },
        "outputId": "b95d43f1-6cd5-4e81-cdb3-7db54f3580f2"
      },
      "execution_count": null,
      "outputs": [
        {
          "output_type": "stream",
          "name": "stdout",
          "text": [
            "Dimensiones del dataset: (15, 1)\n"
          ]
        }
      ]
    },
    {
      "cell_type": "code",
      "source": [
        "#TODO: qué datos contiene\n",
        "# Mostrar información sobre los datos\n",
        "print(df.info())"
      ],
      "metadata": {
        "id": "rsrMEUVYwmbf",
        "colab": {
          "base_uri": "https://localhost:8080/"
        },
        "outputId": "40786c9c-094e-4ddc-f34e-0c4a50133c58"
      },
      "execution_count": null,
      "outputs": [
        {
          "output_type": "stream",
          "name": "stdout",
          "text": [
            "<class 'pandas.core.frame.DataFrame'>\n",
            "RangeIndex: 15 entries, 0 to 14\n",
            "Data columns (total 1 columns):\n",
            " #   Column           Non-Null Count  Dtype \n",
            "---  ------           --------------  ----- \n",
            " 0   protocolSection  15 non-null     object\n",
            "dtypes: object(1)\n",
            "memory usage: 248.0+ bytes\n",
            "None\n"
          ]
        }
      ]
    },
    {
      "cell_type": "markdown",
      "source": [
        "La vectorización es el proceso por el que se convierte una colección de textos en un vector de características numéricas. El modelo que seguimos es el de bolsa de palabras o Bag-of-Words, donde los documentos se describen por las palabras que aparecen en el texto, ignorando su posición relativa o su importancia en el texto.\n",
        "\n",
        "CountVectorizer convierte una colección de documentos en una matriz de contadores que son las apariciones de cada token en cada documento.\n",
        "\n",
        "\n",
        "Empecemos con el campo 'BriefTitle', utilizando un vectorizador para convertir las palabras clave en una serie de elementos.\n"
      ],
      "metadata": {
        "id": "twOAIRs6rhTB"
      }
    },
    {
      "cell_type": "code",
      "source": [
        "from sklearn.feature_extraction.text import CountVectorizer\n",
        "import pandas as pd\n",
        "\n",
        "# TODO: procesa el campo 'BriefTitle'\n",
        "\n",
        "# Inicializamos el CountVectorizer\n",
        "vectorizer = CountVectorizer()\n",
        "\n",
        "# Accedemos al campo briefTitle\n",
        "df['briefTitle'] = df.apply(lambda row: row['protocolSection']['identificationModule']['briefTitle'], axis = 1)\n",
        "X = vectorizer.fit_transform(df['briefTitle'])\n",
        "\n",
        "#Convertimos el resultado a df\n",
        "feature_mx = pd.DataFrame(X.toarray(), columns = vectorizer.get_feature_names_out())\n",
        "\n",
        "#Imprimimos\n",
        "print(feature_mx)"
      ],
      "metadata": {
        "id": "t0dhWcqLv2Ik",
        "colab": {
          "base_uri": "https://localhost:8080/"
        },
        "outputId": "7a5d1ad9-1f82-4f8b-8fc6-cbff2c58d0dc"
      },
      "execution_count": null,
      "outputs": [
        {
          "output_type": "stream",
          "name": "stdout",
          "text": [
            "    101  acute  adults  agent  aggregation  an  and  arthroplasty  aspirin  \\\n",
            "0     0      0       0      0            0   0    0             1        0   \n",
            "1     0      0       0      0            0   0    1             0        0   \n",
            "2     0      0       0      0            0   0    1             0        0   \n",
            "3     0      0       0      0            0   0    1             0        0   \n",
            "4     0      0       0      0            0   0    1             0        0   \n",
            "5     0      0       0      0            0   0    0             0        0   \n",
            "6     0      1       0      0            0   1    0             0        0   \n",
            "7     1      0       0      1            0   0    1             0        0   \n",
            "8     0      1       0      0            1   0    0             0        1   \n",
            "9     0      0       0      0            0   0    1             0        0   \n",
            "10    0      0       0      0            0   0    0             0        0   \n",
            "11    0      0       1      0            0   0    0             0        0   \n",
            "12    0      0       0      0            0   0    1             0        0   \n",
            "13    0      0       0      0            0   0    1             0        0   \n",
            "14    0      0       0      0            0   0    0             0        0   \n",
            "\n",
            "    associated  ...  to  total  training  treated  treatment  type  tzp  \\\n",
            "0            0  ...   0      1         0        0          0     0    0   \n",
            "1            0  ...   0      0         1        0          0     0    0   \n",
            "2            0  ...   0      0         0        0          0     0    0   \n",
            "3            0  ...   0      0         0        0          0     0    0   \n",
            "4            0  ...   0      0         0        0          0     0    0   \n",
            "5            0  ...   0      0         0        0          0     0    0   \n",
            "6            0  ...   0      0         0        0          0     0    0   \n",
            "7            0  ...   0      0         0        0          0     0    1   \n",
            "8            0  ...   0      0         0        1          0     0    0   \n",
            "9            0  ...   0      0         0        0          0     0    0   \n",
            "10           0  ...   0      0         0        0          0     0    0   \n",
            "11           0  ...   0      0         0        1          0     1    0   \n",
            "12           0  ...   0      0         0        0          1     0    0   \n",
            "13           0  ...   0      0         0        0          0     0    0   \n",
            "14           1  ...   1      0         0        0          0     1    0   \n",
            "\n",
            "    ulceration  undergoing  with  \n",
            "0            0           0     1  \n",
            "1            0           0     0  \n",
            "2            0           0     0  \n",
            "3            0           0     0  \n",
            "4            0           0     0  \n",
            "5            1           0     1  \n",
            "6            0           0     0  \n",
            "7            0           0     1  \n",
            "8            0           0     2  \n",
            "9            0           0     0  \n",
            "10           0           0     0  \n",
            "11           0           0     2  \n",
            "12           0           0     1  \n",
            "13           0           1     0  \n",
            "14           0           0     1  \n",
            "\n",
            "[15 rows x 111 columns]\n"
          ]
        }
      ]
    },
    {
      "cell_type": "markdown",
      "source": [
        "¿Cuántas palabras distintas del título hay en el conjunto de datos?"
      ],
      "metadata": {
        "id": "qn5ere0WeuXb"
      }
    },
    {
      "cell_type": "code",
      "source": [
        "#TODO\n",
        "unique_w= vectorizer.get_feature_names_out()\n",
        "print(\"Palabras distintas \", len(unique_w))\n"
      ],
      "metadata": {
        "id": "PkAawVXSx6Py",
        "colab": {
          "base_uri": "https://localhost:8080/"
        },
        "outputId": "df882afe-cb8a-482e-f8a9-adec21034221"
      },
      "execution_count": null,
      "outputs": [
        {
          "output_type": "stream",
          "name": "stdout",
          "text": [
            "Palabras distintas  111\n"
          ]
        }
      ]
    },
    {
      "cell_type": "markdown",
      "source": [
        "Convertir en un DataFrame con 2 columnas: las diferentes palabras clave localizadas y su frecuencia de aparición:"
      ],
      "metadata": {
        "id": "pT-1b56ogo7p"
      }
    },
    {
      "cell_type": "code",
      "source": [
        "#Sumamos las columnas para obtener las frecuencias totales de cada palabra\n",
        "frecuencia = X.sum(axis=0)\n",
        "\n",
        "#Convertimos las frecuencias a un array y luego una lista\n",
        "frecuencia = frecuencia.A1.tolist()\n",
        "\n",
        "#Dataframe con 2 columnas: las diferentes palabras clave localizadas y su frecuencia de aparición\n",
        "frecuencia_aparicion = pd.DataFrame({\n",
        "    'Palabra': unique_w,\n",
        "    'Frecuencia': frecuencia\n",
        "})\n",
        "\n",
        "print(frecuencia_aparicion)"
      ],
      "metadata": {
        "id": "5ptBPeJ3gpaU",
        "colab": {
          "base_uri": "https://localhost:8080/"
        },
        "outputId": "dec6aed1-d5c2-4445-e7b3-b7b6abb2e3cd"
      },
      "execution_count": null,
      "outputs": [
        {
          "output_type": "stream",
          "name": "stdout",
          "text": [
            "         Palabra  Frecuencia\n",
            "0            101           1\n",
            "1          acute           2\n",
            "2         adults           1\n",
            "3          agent           1\n",
            "4    aggregation           1\n",
            "..           ...         ...\n",
            "106         type           2\n",
            "107          tzp           1\n",
            "108   ulceration           1\n",
            "109   undergoing           1\n",
            "110         with           9\n",
            "\n",
            "[111 rows x 2 columns]\n"
          ]
        }
      ]
    },
    {
      "cell_type": "markdown",
      "source": [
        "Obtener las palabras clave que aparecen con mayor frecuencia:"
      ],
      "metadata": {
        "id": "CUji6jlrg_9q"
      }
    },
    {
      "cell_type": "code",
      "source": [
        "#TODO:\n",
        "# DataFrame por frecuencia de aparición de manera descendente\n",
        "frecuencia_aparicion_ordenada = frecuencia_aparicion.sort_values(by='Frecuencia', ascending=False)\n",
        "\n",
        "# Palabras clave más frecuentes\n",
        "palabras_clave_frecuentes = frecuencia_aparicion_ordenada.head(10)  # Las 10 palabras clave más frecuentes\n",
        "print(\"Palabras clave más frecuentes:\")\n",
        "print(palabras_clave_frecuentes)\n"
      ],
      "metadata": {
        "id": "XTwZ_p0-g7H6",
        "colab": {
          "base_uri": "https://localhost:8080/"
        },
        "outputId": "20467f2c-a820-4a82-88be-78dc968852d1"
      },
      "execution_count": null,
      "outputs": [
        {
          "output_type": "stream",
          "name": "stdout",
          "text": [
            "Palabras clave más frecuentes:\n",
            "      Palabra  Frecuencia\n",
            "52         in          10\n",
            "73         of          10\n",
            "110      with           9\n",
            "6         and           8\n",
            "78   patients           5\n",
            "24   diabetes           4\n",
            "25   diabetic           4\n",
            "12      blood           3\n",
            "95      study           2\n",
            "34     effect           2\n"
          ]
        }
      ]
    },
    {
      "cell_type": "markdown",
      "source": [
        "Representar con un diagrama de barras ordenado las 5 palabras clave más frecuentes."
      ],
      "metadata": {
        "id": "ShmhRAZAhO-N"
      }
    },
    {
      "cell_type": "code",
      "source": [
        "# Obtenemos las 5 palabras clave más frecuentes\n",
        "top_palabras_clave = frecuencia_aparicion_ordenada.head(5)\n",
        "\n",
        "# Graficamos las palabras clave más frecuentes\n",
        "plt.figure(figsize=(10, 6))\n",
        "plt.bar(top_palabras_clave['Palabra'], top_palabras_clave['Frecuencia'], color='skyblue')\n",
        "plt.xlabel('Palabra clave')\n",
        "plt.ylabel('Frecuencia')\n",
        "plt.title('5 palabras clave más frecuentes')\n",
        "plt.xticks(rotation=45, ha='right')\n",
        "plt.tight_layout()\n",
        "plt.show()\n"
      ],
      "metadata": {
        "id": "fQdvzNHnhP6y",
        "colab": {
          "base_uri": "https://localhost:8080/",
          "height": 607
        },
        "outputId": "03bbe57a-1ab1-48ae-b699-f19740b697f8"
      },
      "execution_count": null,
      "outputs": [
        {
          "output_type": "display_data",
          "data": {
            "text/plain": [
              "<Figure size 1000x600 with 1 Axes>"
            ],
            "image/png": "[encoded data removed]"
          },
          "metadata": {}
        }
      ]
    },
    {
      "cell_type": "markdown",
      "source": [
        "# Ejercicio 5: distribución de frecuencias según la ley de Zipf\n",
        "\n",
        "La ley de Zipf es una observación empírica sobre la distribución de las frecuencias de las palabras en un lenguaje natural. Se basa en dos ideas principales:\n",
        "\n",
        "* Distribución inversa: La frecuencia de aparición de una palabra es inversamente proporcional a su rango en una lista ordenada de todas las palabras del texto. Esto significa que las palabras más frecuentes tienen un menor rango y viceversa.\n",
        "\n",
        "* Ley de los pequeños números: La frecuencia de una palabra es aproximadamente proporcional al inverso de su rango. En otras palabras, la frecuencia de la palabra es aproximadamente inversamente proporcional al rango de la palabra.\n",
        "\n",
        "La función de la Ley de Zipf relaciona el rango de una palabra ($r$) con su frecuencia de aparición ($f$) mediante la siguiente expresión:\n",
        "\n",
        "$f(r) = \\frac{C}{r^s}$\n",
        "\n",
        "dónde:\n",
        "$f(r)$ es la frecuencia de la palabra en el rango $r$.\n",
        "$C$ es una constante que depende del corpus de texto.\n",
        "$s$ es el exponente de la Ley de Zipf, que suele ser aproximadamente entre 0,7 y 1,0 para los textos en inglés.\n",
        "\n",
        "\n",
        "Esta función describe la relación entre el rango y la frecuencia de aparición de las palabras en un corpus de texto, siguiendo los principios de la Ley de Zipf."
      ],
      "metadata": {
        "id": "f0nAIaR7FFA3"
      }
    },
    {
      "cell_type": "markdown",
      "source": [
        "Para comprobar si es cierto que los textos siguen la ley de Zipf, importaremos la declaración de independencia de Estados Unidos, y comprobaremos si la frecuencia de las palabras cuadra con la frecuencia esperada por la ley de Zipf"
      ],
      "metadata": {
        "id": "DTZ0OT0joQlc"
      }
    },
    {
      "cell_type": "code",
      "source": [
        "# Subir archivo\n",
        "from google.colab import files\n",
        "uploaded = files.upload()"
      ],
      "metadata": {
        "colab": {
          "base_uri": "https://localhost:8080/",
          "height": 37
        },
        "id": "uWMxoYsUomhQ",
        "outputId": "ec553cea-e323-442f-ce2d-4355d80b8786"
      },
      "execution_count": null,
      "outputs": [
        {
          "output_type": "display_data",
          "data": {
            "text/plain": [
              "<IPython.core.display.HTML object>"
            ],
            "text/html": [
              "\n",
              "     <input type=\"file\" id=\"files-cdee28f9-9f7d-4921-ac9c-bf7fda25f8b2\" name=\"files[]\" multiple disabled\n",
              "        style=\"border:none\" />\n",
              "     <output id=\"result-cdee28f9-9f7d-4921-ac9c-bf7fda25f8b2\">\n",
              "      Upload widget is only available when the cell has been executed in the\n",
              "      current browser session. Please rerun this cell to enable.\n",
              "      </output>\n",
              "      <script>// Copyright 2017 Google LLC\n",
              "//\n",
              "// Licensed under the Apache License, Version 2.0 (the \"License\");\n",
              "// you may not use this file except in compliance with the License.\n",
              "// You may obtain a copy of the License at\n",
              "//\n",
              "//      http://www.apache.org/licenses/LICENSE-2.0\n",
              "//\n",
              "// Unless required by applicable law or agreed to in writing, software\n",
              "// distributed under the License is distributed on an \"AS IS\" BASIS,\n",
              "// WITHOUT WARRANTIES OR CONDITIONS OF ANY KIND, either express or implied.\n",
              "// See the License for the specific language governing permissions and\n",
              "// limitations under the License.\n",
              "\n",
              "/**\n",
              " * @fileoverview Helpers for google.colab Python module.\n",
              " */\n",
              "(function(scope) {\n",
              "function span(text, styleAttributes = {}) {\n",
              "  const element = document.createElement('span');\n",
              "  element.textContent = text;\n",
              "  for (const key of Object.keys(styleAttributes)) {\n",
              "    element.style[key] = styleAttributes[key];\n",
              "  }\n",
              "  return element;\n",
              "}\n",
              "\n",
              "// Max number of bytes which will be uploaded at a time.\n",
              "const MAX_PAYLOAD_SIZE = 100 * 1024;\n",
              "\n",
              "function _uploadFiles(inputId, outputId) {\n",
              "  const steps = uploadFilesStep(inputId, outputId);\n",
              "  const outputElement = document.getElementById(outputId);\n",
              "  // Cache steps on the outputElement to make it available for the next call\n",
              "  // to uploadFilesContinue from Python.\n",
              "  outputElement.steps = steps;\n",
              "\n",
              "  return _uploadFilesContinue(outputId);\n",
              "}\n",
              "\n",
              "// This is roughly an async generator (not supported in the browser yet),\n",
              "// where there are multiple asynchronous steps and the Python side is going\n",
              "// to poll for completion of each step.\n",
              "// This uses a Promise to block the python side on completion of each step,\n",
              "// then passes the result of the previous step as the input to the next step.\n",
              "function _uploadFilesContinue(outputId) {\n",
              "  const outputElement = document.getElementById(outputId);\n",
              "  const steps = outputElement.steps;\n",
              "\n",
              "  const next = steps.next(outputElement.lastPromiseValue);\n",
              "  return Promise.resolve(next.value.promise).then((value) => {\n",
              "    // Cache the last promise value to make it available to the next\n",
              "    // step of the generator.\n",
              "    outputElement.lastPromiseValue = value;\n",
              "    return next.value.response;\n",
              "  });\n",
              "}\n",
              "\n",
              "/**\n",
              " * Generator function which is called between each async step of the upload\n",
              " * process.\n",
              " * @param {string} inputId Element ID of the input file picker element.\n",
              " * @param {string} outputId Element ID of the output display.\n",
              " * @return {!Iterable<!Object>} Iterable of next steps.\n",
              " */\n",
              "function* uploadFilesStep(inputId, outputId) {\n",
              "  const inputElement = document.getElementById(inputId);\n",
              "  inputElement.disabled = false;\n",
              "\n",
              "  const outputElement = document.getElementById(outputId);\n",
              "  outputElement.innerHTML = '';\n",
              "\n",
              "  const pickedPromise = new Promise((resolve) => {\n",
              "    inputElement.addEventListener('change', (e) => {\n",
              "      resolve(e.target.files);\n",
              "    });\n",
              "  });\n",
              "\n",
              "  const cancel = document.createElement('button');\n",
              "  inputElement.parentElement.appendChild(cancel);\n",
              "  cancel.textContent = 'Cancel upload';\n",
              "  const cancelPromise = new Promise((resolve) => {\n",
              "    cancel.onclick = () => {\n",
              "      resolve(null);\n",
              "    };\n",
              "  });\n",
              "\n",
              "  // Wait for the user to pick the files.\n",
              "  const files = yield {\n",
              "    promise: Promise.race([pickedPromise, cancelPromise]),\n",
              "    response: {\n",
              "      action: 'starting',\n",
              "    }\n",
              "  };\n",
              "\n",
              "  cancel.remove();\n",
              "\n",
              "  // Disable the input element since further picks are not allowed.\n",
              "  inputElement.disabled = true;\n",
              "\n",
              "  if (!files) {\n",
              "    return {\n",
              "      response: {\n",
              "        action: 'complete',\n",
              "      }\n",
              "    };\n",
              "  }\n",
              "\n",
              "  for (const file of files) {\n",
              "    const li = document.createElement('li');\n",
              "    li.append(span(file.name, {fontWeight: 'bold'}));\n",
              "    li.append(span(\n",
              "        `(${file.type || 'n/a'}) - ${file.size} bytes, ` +\n",
              "        `last modified: ${\n",
              "            file.lastModifiedDate ? file.lastModifiedDate.toLocaleDateString() :\n",
              "                                    'n/a'} - `));\n",
              "    const percent = span('0% done');\n",
              "    li.appendChild(percent);\n",
              "\n",
              "    outputElement.appendChild(li);\n",
              "\n",
              "    const fileDataPromise = new Promise((resolve) => {\n",
              "      const reader = new FileReader();\n",
              "      reader.onload = (e) => {\n",
              "        resolve(e.target.result);\n",
              "      };\n",
              "      reader.readAsArrayBuffer(file);\n",
              "    });\n",
              "    // Wait for the data to be ready.\n",
              "    let fileData = yield {\n",
              "      promise: fileDataPromise,\n",
              "      response: {\n",
              "        action: 'continue',\n",
              "      }\n",
              "    };\n",
              "\n",
              "    // Use a chunked sending to avoid message size limits. See b/62115660.\n",
              "    let position = 0;\n",
              "    do {\n",
              "      const length = Math.min(fileData.byteLength - position, MAX_PAYLOAD_SIZE);\n",
              "      const chunk = new Uint8Array(fileData, position, length);\n",
              "      position += length;\n",
              "\n",
              "      const base64 = btoa(String.fromCharCode.apply(null, chunk));\n",
              "      yield {\n",
              "        response: {\n",
              "          action: 'append',\n",
              "          file: file.name,\n",
              "          data: base64,\n",
              "        },\n",
              "      };\n",
              "\n",
              "      let percentDone = fileData.byteLength === 0 ?\n",
              "          100 :\n",
              "          Math.round((position / fileData.byteLength) * 100);\n",
              "      percent.textContent = `${percentDone}% done`;\n",
              "\n",
              "    } while (position < fileData.byteLength);\n",
              "  }\n",
              "\n",
              "  // All done.\n",
              "  yield {\n",
              "    response: {\n",
              "      action: 'complete',\n",
              "    }\n",
              "  };\n",
              "}\n",
              "\n",
              "scope.google = scope.google || {};\n",
              "scope.google.colab = scope.google.colab || {};\n",
              "scope.google.colab._files = {\n",
              "  _uploadFiles,\n",
              "  _uploadFilesContinue,\n",
              "};\n",
              "})(self);\n",
              "</script> "
            ]
          },
          "metadata": {}
        }
      ]
    },
    {
      "cell_type": "code",
      "source": [
        "# TODO: importar archivo\n",
        "file_path = 'declaration-of-independence.txt'\n"
      ],
      "metadata": {
        "id": "sGjl30UnoyYi"
      },
      "execution_count": null,
      "outputs": []
    },
    {
      "cell_type": "code",
      "source": [
        "# Leemos el contenido del archivo\n",
        "with open(file_path, 'r') as file:\n",
        "    declaration_text = file.read()\n",
        "\n",
        "# Mostramos\n",
        "print(declaration_text)\n"
      ],
      "metadata": {
        "id": "8r45HiNSpIFV",
        "colab": {
          "base_uri": "https://localhost:8080/"
        },
        "outputId": "49f950c6-ee16-44c0-d2c6-e6a131b3b1a0"
      },
      "execution_count": null,
      "outputs": [
        {
          "output_type": "stream",
          "name": "stdout",
          "text": [
            "                      Declaration of Independence\n",
            "\n",
            "                   [Adopted in Congress 4 July 1776]\n",
            "\n",
            "\n",
            "\n",
            "   The Unanimous Declaration of the Thirteen United States of America\n",
            "\n",
            "When, in the course of human events, it becomes necessary for one people to \n",
            "dissolve the political bands which have connected them with another, and to \n",
            "assume among the powers of the earth, the separate and equal station to \n",
            "which the laws of nature and of nature's God entitle them, a decent respect \n",
            "to the opinions of mankind requires that they should declare the causes \n",
            "which impel them to the separation.\n",
            "\n",
            "We hold these truths to be self-evident, that all men are created equal, \n",
            "that they are endowed by their Creator with certain unalienable rights, that \n",
            "among these are life, liberty and the pursuit of happiness. That to secure \n",
            "these rights, governments are instituted among men, deriving their just \n",
            "powers from the consent of the governed. That whenever any form of \n",
            "government becomes destructive of these ends, it is the right of the people \n",
            "to alter or to abolish it, and to institute new government, laying its \n",
            "foundation on such principles and organizing its powers in such form, as to \n",
            "them shall seem most likely to effect their safety and happiness. Prudence, \n",
            "indeed, will dictate that governments long established should not be changed \n",
            "for light and transient causes; and accordingly all experience hath shown \n",
            "that mankind are more disposed to suffer, while evils are sufferable, than \n",
            "to right themselves by abolishing the forms to which they are accustomed. \n",
            "But when a long train of abuses and usurpations, pursuing invariably the \n",
            "same object evinces a design to reduce them under absolute despotism, it is \n",
            "their right, it is their duty, to throw off such government, and to provide \n",
            "new guards for their future security. -- Such has been the patient \n",
            "sufferance of these colonies; and such is now the necessity which constrains \n",
            "them to alter their former systems of government. The history of the present \n",
            "King of Great Britain is a history of repeated injuries and usurpations, all \n",
            "having in direct object the establishment of an absolute tyranny over these \n",
            "states. To prove this, let facts be submitted to a candid world.\n",
            "\n",
            "     He has refused his assent to laws, the most wholesome and\n",
            "     necessary for the public good.\n",
            "\n",
            "     He has forbidden his governors to pass laws of immediate\n",
            "     and pressing importance, unless suspended in their\n",
            "     operation till his assent should be obtained; and when so\n",
            "     suspended, he has utterly neglected to attend to them. \n",
            "\n",
            "     He has refused to pass other laws for the accommodation\n",
            "     of large districts of people, unless those people would\n",
            "     relinquish the right of representation in the legislature, a\n",
            "     right inestimable to them and formidable to tyrants only. \n",
            "\n",
            "     He has called together legislative bodies at places unusual,\n",
            "     uncomfortable, and distant from the depository of their\n",
            "     public records, for the sole purpose of fatiguing them into\n",
            "     compliance with his measures.\n",
            "\n",
            "     He has dissolved representative houses repeatedly, for\n",
            "     opposing with manly firmness his invasions on the rights of\n",
            "     the people.\n",
            "\n",
            "     He has refused for a long time, after such dissolutions, to\n",
            "     cause others to be elected; whereby the legislative powers,\n",
            "     incapable of annihilation, have returned to the people at\n",
            "     large for their exercise; the state remaining in the meantime\n",
            "     exposed to all the dangers of invasion from without, and\n",
            "     convulsions within.\n",
            "\n",
            "     He has endeavored to prevent the population of these\n",
            "     states; for that purpose obstructing the laws for\n",
            "     naturalization of foreigners; refusing to pass others to\n",
            "     encourage their migration hither, and raising the conditions\n",
            "     of new appropriations of lands.\n",
            "\n",
            "     He has obstructed the administration of justice, by refusing\n",
            "     his assent to laws for establishing judiciary powers.\n",
            "\n",
            "     He has made judges dependent on his will alone, for the\n",
            "     tenure of their offices, and the amount and payment of their\n",
            "     salaries.\n",
            "\n",
            "     He has erected a multitude of new offices, and sent hither\n",
            "     swarms of officers to harass our people, and eat out their\n",
            "     substance.\n",
            "\n",
            "     He has kept among us, in times of peace, standing armies\n",
            "     without the consent of our legislature.\n",
            "\n",
            "     He has affected to render the military independent of and\n",
            "     superior to civil power.\n",
            "\n",
            "     He has combined with others to subject us to a jurisdiction\n",
            "     foreign to our constitution, and unacknowledged by our\n",
            "     laws; giving his assent to their acts of pretended legislation:\n",
            "\n",
            "     For quartering large bodies of armed troops among us:\n",
            "\n",
            "     For protecting them, by mock trial, from punishment for\n",
            "     any murders which they should commit on the inhabitants\n",
            "     of these states:\n",
            "\n",
            "     For cutting off our trade with all parts of the world:\n",
            "\n",
            "     For imposing taxes on us without our consent:\n",
            "\n",
            "     For depriving us in many cases, of the benefits of trial by\n",
            "     jury:\n",
            "\n",
            "     For transporting us beyond seas to be tried for pretended\n",
            "     offenses:\n",
            "\n",
            "     For abolishing the free system of English laws in a\n",
            "     neighboring province, establishing therein an arbitrary\n",
            "     government, and enlarging its boundaries so as to render it\n",
            "     at once an example and fit instrument for introducing the\n",
            "     same absolute rule in these colonies:\n",
            "\n",
            "     For taking away our charters, abolishing our most valuable\n",
            "     laws, and altering fundamentally the forms of our\n",
            "     governments:\n",
            "\n",
            "     For suspending our own legislatures, and declaring\n",
            "     themselves invested with power to legislate for us in all\n",
            "     cases whatsoever.\n",
            "\n",
            "     He has abdicated government here, by declaring us out of\n",
            "     his protection and waging war against us.\n",
            "\n",
            "     He has plundered our seas, ravaged our coasts, burned\n",
            "     our towns, and destroyed the lives of our people.\n",
            "\n",
            "     He is at this time transporting large armies of foreign\n",
            "     mercenaries to complete the works of death, desolation\n",
            "     and tyranny, already begun with circumstances of cruelty\n",
            "     and perfidy scarcely paralleled in the most barbarous ages,\n",
            "     and totally unworthy of the head of a civilized nation.\n",
            "\n",
            "     He has constrained our fellow citizens taken captive on the\n",
            "     high seas to bear arms against their country, to become the\n",
            "     executioners of their friends and brethren, or to fall\n",
            "     themselves by their hands.\n",
            "\n",
            "     He has excited domestic insurrections amongst us, and has\n",
            "     endeavored to bring on the inhabitants of our frontiers, the\n",
            "     merciless Indian savages, whose known rule of warfare, is\n",
            "     undistinguished destruction of all ages, sexes and\n",
            "     conditions.\n",
            "\n",
            "In every stage of these oppressions we have petitioned for redress in the \n",
            "most humble terms: our repeated petitions have been answered only by \n",
            "repeated injury. A prince, whose character is thus marked by every act which \n",
            "may define a tyrant, is unfit to be the ruler of a free people.\n",
            "\n",
            "Nor have we been wanting in attention to our British brethren. We have \n",
            "warned them from time to time of attempts by their legislature to extend an \n",
            "unwarrantable jurisdiction over us. We have reminded them of the \n",
            "circumstances of our emigration and settlement here. We have appealed to \n",
            "their native justice and magnanimity, and we have conjured them by the ties \n",
            "of our common kindred to disavow these usurpations, which, would inevitably \n",
            "interrupt our connections and correspondence. They too have been deaf to the \n",
            "voice of justice and of consanguinity. We must, therefore, acquiesce \n",
            "in the necessity, which denounces our separation, and hold them, as we hold \n",
            "the rest of mankind, enemies in war, in peace friends.\n",
            "\n",
            "We, therefore, the representatives of the United States of America, in \n",
            "General Congress, assembled, appealing to the Supreme Judge of the world for \n",
            "the rectitude of our intentions, do, in the name, and by the authority of \n",
            "the good people of these colonies, solemnly publish and declare, that these \n",
            "united colonies are, and of right ought to be free and independent states; \n",
            "that they are absolved from all allegiance to the British Crown, and that \n",
            "all political connection between them and the state of Great Britain, is and \n",
            "ought to be totally dissolved; and that as free and independent states, they \n",
            "have full power to levey war, conclude peace, contract alliances, establish \n",
            "commerce, and to do all other acts and things which independent states may \n",
            "of right do. And for the support of this declaration, with a firm reliance \n",
            "on the protection of Divine Providence, we mutually pledge to each other our \n",
            "lives, our fortunes and our sacred honor.\n",
            "\n"
          ]
        }
      ]
    },
    {
      "cell_type": "code",
      "source": [
        "# Eliminamos la puntuación utilizando expresiones regulares\n",
        "declaration_text_clean = re.sub(r'[^\\w\\s]', '', declaration_text)\n",
        "\n",
        "# Mostramos el texto limpio sin puntuación\n",
        "print(declaration_text_clean)"
      ],
      "metadata": {
        "id": "rD9qMhUvo8_g",
        "colab": {
          "base_uri": "https://localhost:8080/"
        },
        "outputId": "8698fe54-00c1-4516-e8f7-2354203ac5af"
      },
      "execution_count": null,
      "outputs": [
        {
          "output_type": "stream",
          "name": "stdout",
          "text": [
            "                      Declaration of Independence\n",
            "\n",
            "                   Adopted in Congress 4 July 1776\n",
            "\n",
            "\n",
            "\n",
            "   The Unanimous Declaration of the Thirteen United States of America\n",
            "\n",
            "When in the course of human events it becomes necessary for one people to \n",
            "dissolve the political bands which have connected them with another and to \n",
            "assume among the powers of the earth the separate and equal station to \n",
            "which the laws of nature and of natures God entitle them a decent respect \n",
            "to the opinions of mankind requires that they should declare the causes \n",
            "which impel them to the separation\n",
            "\n",
            "We hold these truths to be selfevident that all men are created equal \n",
            "that they are endowed by their Creator with certain unalienable rights that \n",
            "among these are life liberty and the pursuit of happiness That to secure \n",
            "these rights governments are instituted among men deriving their just \n",
            "powers from the consent of the governed That whenever any form of \n",
            "government becomes destructive of these ends it is the right of the people \n",
            "to alter or to abolish it and to institute new government laying its \n",
            "foundation on such principles and organizing its powers in such form as to \n",
            "them shall seem most likely to effect their safety and happiness Prudence \n",
            "indeed will dictate that governments long established should not be changed \n",
            "for light and transient causes and accordingly all experience hath shown \n",
            "that mankind are more disposed to suffer while evils are sufferable than \n",
            "to right themselves by abolishing the forms to which they are accustomed \n",
            "But when a long train of abuses and usurpations pursuing invariably the \n",
            "same object evinces a design to reduce them under absolute despotism it is \n",
            "their right it is their duty to throw off such government and to provide \n",
            "new guards for their future security  Such has been the patient \n",
            "sufferance of these colonies and such is now the necessity which constrains \n",
            "them to alter their former systems of government The history of the present \n",
            "King of Great Britain is a history of repeated injuries and usurpations all \n",
            "having in direct object the establishment of an absolute tyranny over these \n",
            "states To prove this let facts be submitted to a candid world\n",
            "\n",
            "     He has refused his assent to laws the most wholesome and\n",
            "     necessary for the public good\n",
            "\n",
            "     He has forbidden his governors to pass laws of immediate\n",
            "     and pressing importance unless suspended in their\n",
            "     operation till his assent should be obtained and when so\n",
            "     suspended he has utterly neglected to attend to them \n",
            "\n",
            "     He has refused to pass other laws for the accommodation\n",
            "     of large districts of people unless those people would\n",
            "     relinquish the right of representation in the legislature a\n",
            "     right inestimable to them and formidable to tyrants only \n",
            "\n",
            "     He has called together legislative bodies at places unusual\n",
            "     uncomfortable and distant from the depository of their\n",
            "     public records for the sole purpose of fatiguing them into\n",
            "     compliance with his measures\n",
            "\n",
            "     He has dissolved representative houses repeatedly for\n",
            "     opposing with manly firmness his invasions on the rights of\n",
            "     the people\n",
            "\n",
            "     He has refused for a long time after such dissolutions to\n",
            "     cause others to be elected whereby the legislative powers\n",
            "     incapable of annihilation have returned to the people at\n",
            "     large for their exercise the state remaining in the meantime\n",
            "     exposed to all the dangers of invasion from without and\n",
            "     convulsions within\n",
            "\n",
            "     He has endeavored to prevent the population of these\n",
            "     states for that purpose obstructing the laws for\n",
            "     naturalization of foreigners refusing to pass others to\n",
            "     encourage their migration hither and raising the conditions\n",
            "     of new appropriations of lands\n",
            "\n",
            "     He has obstructed the administration of justice by refusing\n",
            "     his assent to laws for establishing judiciary powers\n",
            "\n",
            "     He has made judges dependent on his will alone for the\n",
            "     tenure of their offices and the amount and payment of their\n",
            "     salaries\n",
            "\n",
            "     He has erected a multitude of new offices and sent hither\n",
            "     swarms of officers to harass our people and eat out their\n",
            "     substance\n",
            "\n",
            "     He has kept among us in times of peace standing armies\n",
            "     without the consent of our legislature\n",
            "\n",
            "     He has affected to render the military independent of and\n",
            "     superior to civil power\n",
            "\n",
            "     He has combined with others to subject us to a jurisdiction\n",
            "     foreign to our constitution and unacknowledged by our\n",
            "     laws giving his assent to their acts of pretended legislation\n",
            "\n",
            "     For quartering large bodies of armed troops among us\n",
            "\n",
            "     For protecting them by mock trial from punishment for\n",
            "     any murders which they should commit on the inhabitants\n",
            "     of these states\n",
            "\n",
            "     For cutting off our trade with all parts of the world\n",
            "\n",
            "     For imposing taxes on us without our consent\n",
            "\n",
            "     For depriving us in many cases of the benefits of trial by\n",
            "     jury\n",
            "\n",
            "     For transporting us beyond seas to be tried for pretended\n",
            "     offenses\n",
            "\n",
            "     For abolishing the free system of English laws in a\n",
            "     neighboring province establishing therein an arbitrary\n",
            "     government and enlarging its boundaries so as to render it\n",
            "     at once an example and fit instrument for introducing the\n",
            "     same absolute rule in these colonies\n",
            "\n",
            "     For taking away our charters abolishing our most valuable\n",
            "     laws and altering fundamentally the forms of our\n",
            "     governments\n",
            "\n",
            "     For suspending our own legislatures and declaring\n",
            "     themselves invested with power to legislate for us in all\n",
            "     cases whatsoever\n",
            "\n",
            "     He has abdicated government here by declaring us out of\n",
            "     his protection and waging war against us\n",
            "\n",
            "     He has plundered our seas ravaged our coasts burned\n",
            "     our towns and destroyed the lives of our people\n",
            "\n",
            "     He is at this time transporting large armies of foreign\n",
            "     mercenaries to complete the works of death desolation\n",
            "     and tyranny already begun with circumstances of cruelty\n",
            "     and perfidy scarcely paralleled in the most barbarous ages\n",
            "     and totally unworthy of the head of a civilized nation\n",
            "\n",
            "     He has constrained our fellow citizens taken captive on the\n",
            "     high seas to bear arms against their country to become the\n",
            "     executioners of their friends and brethren or to fall\n",
            "     themselves by their hands\n",
            "\n",
            "     He has excited domestic insurrections amongst us and has\n",
            "     endeavored to bring on the inhabitants of our frontiers the\n",
            "     merciless Indian savages whose known rule of warfare is\n",
            "     undistinguished destruction of all ages sexes and\n",
            "     conditions\n",
            "\n",
            "In every stage of these oppressions we have petitioned for redress in the \n",
            "most humble terms our repeated petitions have been answered only by \n",
            "repeated injury A prince whose character is thus marked by every act which \n",
            "may define a tyrant is unfit to be the ruler of a free people\n",
            "\n",
            "Nor have we been wanting in attention to our British brethren We have \n",
            "warned them from time to time of attempts by their legislature to extend an \n",
            "unwarrantable jurisdiction over us We have reminded them of the \n",
            "circumstances of our emigration and settlement here We have appealed to \n",
            "their native justice and magnanimity and we have conjured them by the ties \n",
            "of our common kindred to disavow these usurpations which would inevitably \n",
            "interrupt our connections and correspondence They too have been deaf to the \n",
            "voice of justice and of consanguinity We must therefore acquiesce \n",
            "in the necessity which denounces our separation and hold them as we hold \n",
            "the rest of mankind enemies in war in peace friends\n",
            "\n",
            "We therefore the representatives of the United States of America in \n",
            "General Congress assembled appealing to the Supreme Judge of the world for \n",
            "the rectitude of our intentions do in the name and by the authority of \n",
            "the good people of these colonies solemnly publish and declare that these \n",
            "united colonies are and of right ought to be free and independent states \n",
            "that they are absolved from all allegiance to the British Crown and that \n",
            "all political connection between them and the state of Great Britain is and \n",
            "ought to be totally dissolved and that as free and independent states they \n",
            "have full power to levey war conclude peace contract alliances establish \n",
            "commerce and to do all other acts and things which independent states may \n",
            "of right do And for the support of this declaration with a firm reliance \n",
            "on the protection of Divine Providence we mutually pledge to each other our \n",
            "lives our fortunes and our sacred honor\n",
            "\n"
          ]
        }
      ]
    },
    {
      "cell_type": "code",
      "source": [
        "# Frecuencia de las palabras ordenadas de más a menos\n",
        "from collections import Counter\n",
        "\n",
        "def top_freq_words(texto):\n",
        "     # TODO: convertir el texto a lower\n",
        "     texto_lower = texto.lower()\n",
        "     # TODO: contar la frecuencia de las palabras\n",
        "     word_freq = Counter(texto_lower.split())\n",
        "     # TODO: ordenar la frecuencia en orden descendente\n",
        "     sorted_word_freq = sorted(word_freq.items(), key=lambda x: x[1], reverse=True)\n",
        "     return sorted_word_freq\n",
        "\n",
        "# Palabras más frecuentes\n",
        "sorted_word_freq = top_freq_words(declaration_text_clean)\n",
        "\n",
        "# Palabras más frecuentes y sus frecuencias\n",
        "for word, freq in sorted_word_freq[:10]:\n",
        "    print(f'Palabra: {word}, Frecuencia: {freq}')"
      ],
      "metadata": {
        "id": "o3XO-G3FpcIW",
        "colab": {
          "base_uri": "https://localhost:8080/"
        },
        "outputId": "7a814a78-76e6-4b97-80e3-71dc12125c77"
      },
      "execution_count": null,
      "outputs": [
        {
          "output_type": "stream",
          "name": "stdout",
          "text": [
            "Palabra: of, Frecuencia: 80\n",
            "Palabra: the, Frecuencia: 78\n",
            "Palabra: to, Frecuencia: 65\n",
            "Palabra: and, Frecuencia: 57\n",
            "Palabra: for, Frecuencia: 29\n",
            "Palabra: our, Frecuencia: 26\n",
            "Palabra: in, Frecuencia: 21\n",
            "Palabra: their, Frecuencia: 20\n",
            "Palabra: has, Frecuencia: 20\n",
            "Palabra: he, Frecuencia: 19\n"
          ]
        }
      ]
    },
    {
      "cell_type": "code",
      "source": [
        "# TODO: crear una dataframe con las frecuencias reales y las esperadas según la ley de Zipf\n",
        "def create_df_zip(sorted_word_freq):\n",
        "    # Crear un DataFrame con las palabras y sus frecuencias reales\n",
        "    df = pd.DataFrame(sorted_word_freq, columns=['Palabra', 'Frecuencia Real'])\n",
        "\n",
        "    # Calcular la frecuencia esperada según la ley de Zipf\n",
        "    total_words = df['Frecuencia Real'].sum()\n",
        "    df['Frecuencia Esperada'] = total_words / (df.index + 1)\n",
        "    return df\n",
        "\n",
        "df_zip = create_df_zip(sorted_word_freq)"
      ],
      "metadata": {
        "id": "UVVJzXhSp7zd"
      },
      "execution_count": null,
      "outputs": []
    },
    {
      "cell_type": "code",
      "source": [
        "#TODO: muestra el df\n",
        "print(df_zip)"
      ],
      "metadata": {
        "id": "wl73VjNsqIcF",
        "colab": {
          "base_uri": "https://localhost:8080/"
        },
        "outputId": "b35c589e-716a-4110-f2ed-671f2aa09257"
      },
      "execution_count": null,
      "outputs": [
        {
          "output_type": "stream",
          "name": "stdout",
          "text": [
            "      Palabra  Frecuencia Real  Frecuencia Esperada\n",
            "0          of               80          1339.000000\n",
            "1         the               78           669.500000\n",
            "2          to               65           446.333333\n",
            "3         and               57           334.750000\n",
            "4         for               29           267.800000\n",
            "..        ...              ...                  ...\n",
            "535    pledge                1             2.498134\n",
            "536      each                1             2.493482\n",
            "537  fortunes                1             2.488848\n",
            "538    sacred                1             2.484230\n",
            "539     honor                1             2.479630\n",
            "\n",
            "[540 rows x 3 columns]\n"
          ]
        }
      ]
    },
    {
      "cell_type": "code",
      "source": [
        "# Frecuencias reales y las esperadas según la ley de Zipf\n",
        "\n",
        "def plot_zipf(df_zip):\n",
        "    # figura y los ejes\n",
        "    fig, ax = plt.subplots(figsize=(10, 6))\n",
        "\n",
        "    # frecuencias reales\n",
        "    ax.plot(df_zip.index + 1, df_zip['Frecuencia Real'], marker='o', linestyle='-', color='b', label='Frecuencia Real')\n",
        "\n",
        "    # frecuencias esperadas según la ley de Zipf\n",
        "    ax.plot(df_zip.index + 1, df_zip['Frecuencia Esperada'], linestyle='--', color='r', label='Frecuencia Esperada (Ley de Zipf)')\n",
        "\n",
        "    # Etiquetas y título\n",
        "    ax.set_xlabel('Ranking de Palabras')\n",
        "    ax.set_ylabel('Frecuencia')\n",
        "    ax.set_title('Frecuencias Reales vs. Esperadas (Ley de Zipf)')\n",
        "\n",
        "    # Leyenda\n",
        "    ax.legend()\n",
        "\n",
        "    # Mostrar la gráfica\n",
        "    plt.show()\n",
        "\n",
        "plot_zipf(df_zip)\n",
        "\n"
      ],
      "metadata": {
        "id": "Azmj01RQqi_l",
        "colab": {
          "base_uri": "https://localhost:8080/",
          "height": 564
        },
        "outputId": "a45058f3-ce54-412f-951f-26ce2bede714"
      },
      "execution_count": null,
      "outputs": [
        {
          "output_type": "display_data",
          "data": {
            "text/plain": [
              "<Figure size 1000x600 with 1 Axes>"
            ],
            "image/png": "[encoded data removed]"
          },
          "metadata": {}
        }
      ]
    },
    {
      "cell_type": "markdown",
      "source": [
        "Comenta qué ves en el gráfico. ¿Qué pasaría si sacáramos las stopwords del texto?"
      ],
      "metadata": {
        "id": "yLpU0hSFq7c2"
      }
    },
    {
      "cell_type": "markdown",
      "source": [
        "La línea azul (frecuencia real) se mantiene alrededor de 80 mientras que la línea roja (frecuencia esperada según la ley de Zipf) sube a 1339 en el eje de frecuencia, y ambas líneas llegan a 500 en el ranking de palabras, hay algunas interpretaciones posibles:\n",
        "\n",
        "1) Desviación de la ley de Zipf: Esto sugiere que las frecuencias reales de las palabras en el texto no siguen la distribución esperada según la ley de Zipf.\n",
        "\n",
        "2) Presencia de palabras muy frecuentes y menos frecuentes: La discrepancia entre las frecuencias reales y esperadas puede deberse a la presencia de algunas palabras extremadamente frecuentes en el texto que elevan la línea azul, mientras que otras palabras tienen frecuencias mucho más bajas de lo esperado según la ley de Zipf.\n",
        "\n",
        "En cuanto a la eliminación de las stopwords del texto, esto podría cambiar la distribución de las frecuencias de las palabras. Las stopwords suelen ser palabras muy comunes que pueden distorsionar la distribución de las frecuencias. Al eliminarlas, es posible que la distribución se ajuste mejor a la ley de Zipf, ya que las stopwords tienden a tener frecuencias más altas de lo esperado según Zipf. Sin embargo, esto dependerá del texto específico y de la cantidad y tipo de stopwords presentes."
      ],
      "metadata": {
        "id": "eZE6manrHd4E"
      }
    },
    {
      "cell_type": "code",
      "source": [
        "import nltk\n",
        "from nltk.corpus import stopwords\n",
        "nltk.download('stopwords')\n",
        "# TODO: Saca las stop words en inglés\n",
        "\n",
        "def remove_stopwords(text):\n",
        "    # stopwords en inglés\n",
        "    english_stopwords = set(stopwords.words('english'))\n",
        "\n",
        "    # Tokenizar el texto en palabras\n",
        "    words = text.split()\n",
        "\n",
        "    # Filtrar las palabras que no están en la lista de stopwords\n",
        "    filtered_words = [word for word in words if word.lower() not in english_stopwords]\n",
        "\n",
        "    # Unir las palabras filtradas de nuevo en un texto\n",
        "    filtered_text = ' '.join(filtered_words)\n",
        "\n",
        "    return filtered_text\n",
        "\n",
        "# Suponiendo que declaration_text contiene el texto de la Declaración de Independencia\n",
        "declaration_no_sw = remove_stopwords(declaration_text_clean)\n",
        "\n",
        "# Mostrar el texto limpio sin stopwords\n",
        "print(declaration_no_sw)"
      ],
      "metadata": {
        "id": "EgkVdzm9rB1c",
        "colab": {
          "base_uri": "https://localhost:8080/"
        },
        "outputId": "cb7b2a85-56cd-444a-ef95-1c1897a13cdd"
      },
      "execution_count": null,
      "outputs": [
        {
          "output_type": "stream",
          "name": "stdout",
          "text": [
            "Declaration Independence Adopted Congress 4 July 1776 Unanimous Declaration Thirteen United States America course human events becomes necessary one people dissolve political bands connected another assume among powers earth separate equal station laws nature natures God entitle decent respect opinions mankind requires declare causes impel separation hold truths selfevident men created equal endowed Creator certain unalienable rights among life liberty pursuit happiness secure rights governments instituted among men deriving powers consent governed whenever form government becomes destructive ends right people alter abolish institute new government laying foundation principles organizing powers form shall seem likely effect safety happiness Prudence indeed dictate governments long established changed light transient causes accordingly experience hath shown mankind disposed suffer evils sufferable right abolishing forms accustomed long train abuses usurpations pursuing invariably object evinces design reduce absolute despotism right duty throw government provide new guards future security patient sufferance colonies necessity constrains alter former systems government history present King Great Britain history repeated injuries usurpations direct object establishment absolute tyranny states prove let facts submitted candid world refused assent laws wholesome necessary public good forbidden governors pass laws immediate pressing importance unless suspended operation till assent obtained suspended utterly neglected attend refused pass laws accommodation large districts people unless people would relinquish right representation legislature right inestimable formidable tyrants called together legislative bodies places unusual uncomfortable distant depository public records sole purpose fatiguing compliance measures dissolved representative houses repeatedly opposing manly firmness invasions rights people refused long time dissolutions cause others elected whereby legislative powers incapable annihilation returned people large exercise state remaining meantime exposed dangers invasion without convulsions within endeavored prevent population states purpose obstructing laws naturalization foreigners refusing pass others encourage migration hither raising conditions new appropriations lands obstructed administration justice refusing assent laws establishing judiciary powers made judges dependent alone tenure offices amount payment salaries erected multitude new offices sent hither swarms officers harass people eat substance kept among us times peace standing armies without consent legislature affected render military independent superior civil power combined others subject us jurisdiction foreign constitution unacknowledged laws giving assent acts pretended legislation quartering large bodies armed troops among us protecting mock trial punishment murders commit inhabitants states cutting trade parts world imposing taxes us without consent depriving us many cases benefits trial jury transporting us beyond seas tried pretended offenses abolishing free system English laws neighboring province establishing therein arbitrary government enlarging boundaries render example fit instrument introducing absolute rule colonies taking away charters abolishing valuable laws altering fundamentally forms governments suspending legislatures declaring invested power legislate us cases whatsoever abdicated government declaring us protection waging war us plundered seas ravaged coasts burned towns destroyed lives people time transporting large armies foreign mercenaries complete works death desolation tyranny already begun circumstances cruelty perfidy scarcely paralleled barbarous ages totally unworthy head civilized nation constrained fellow citizens taken captive high seas bear arms country become executioners friends brethren fall hands excited domestic insurrections amongst us endeavored bring inhabitants frontiers merciless Indian savages whose known rule warfare undistinguished destruction ages sexes conditions every stage oppressions petitioned redress humble terms repeated petitions answered repeated injury prince whose character thus marked every act may define tyrant unfit ruler free people wanting attention British brethren warned time time attempts legislature extend unwarrantable jurisdiction us reminded circumstances emigration settlement appealed native justice magnanimity conjured ties common kindred disavow usurpations would inevitably interrupt connections correspondence deaf voice justice consanguinity must therefore acquiesce necessity denounces separation hold hold rest mankind enemies war peace friends therefore representatives United States America General Congress assembled appealing Supreme Judge world rectitude intentions name authority good people colonies solemnly publish declare united colonies right ought free independent states absolved allegiance British Crown political connection state Great Britain ought totally dissolved free independent states full power levey war conclude peace contract alliances establish commerce acts things independent states may right support declaration firm reliance protection Divine Providence mutually pledge lives fortunes sacred honor\n"
          ]
        },
        {
          "output_type": "stream",
          "name": "stderr",
          "text": [
            "[nltk_data] Downloading package stopwords to /root/nltk_data...\n",
            "[nltk_data]   Package stopwords is already up-to-date!\n"
          ]
        }
      ]
    },
    {
      "cell_type": "code",
      "source": [
        "# TODO: vuelve a mostrar la tabla df y el gráfico al excluir las stopwords\n",
        "freq_words = top_freq_words(declaration_no_sw)\n",
        "\n",
        "# Mostrar las palabras más frecuentes y sus frecuencias\n",
        "for word, freq in freq_words[:10]:\n",
        "    print(f'Palabra: {word}, Frecuencia: {freq}')"
      ],
      "metadata": {
        "id": "X5_LLc1FrUfb",
        "colab": {
          "base_uri": "https://localhost:8080/"
        },
        "outputId": "5d63dac6-257a-4f8d-f64e-da9df914800e"
      },
      "execution_count": null,
      "outputs": [
        {
          "output_type": "stream",
          "name": "stdout",
          "text": [
            "Palabra: us, Frecuencia: 11\n",
            "Palabra: people, Frecuencia: 10\n",
            "Palabra: laws, Frecuencia: 9\n",
            "Palabra: states, Frecuencia: 8\n",
            "Palabra: right, Frecuencia: 7\n",
            "Palabra: government, Frecuencia: 6\n",
            "Palabra: among, Frecuencia: 5\n",
            "Palabra: powers, Frecuencia: 5\n",
            "Palabra: new, Frecuencia: 4\n",
            "Palabra: colonies, Frecuencia: 4\n"
          ]
        }
      ]
    },
    {
      "cell_type": "code",
      "source": [
        "# TODO: Dibujar las frecuencias reales y las esperadas según la ley de Zipf (excluyendo las stopwords)\n",
        "\n",
        "df_zip2 = create_df_zip(freq_words)\n",
        "#TODO: muestra el df\n",
        "print(df_zip2)"
      ],
      "metadata": {
        "id": "XB1ZuIFFrmDX",
        "colab": {
          "base_uri": "https://localhost:8080/"
        },
        "outputId": "a93700a7-f7aa-4923-f920-022339c15c3d"
      },
      "execution_count": null,
      "outputs": [
        {
          "output_type": "stream",
          "name": "stdout",
          "text": [
            "      Palabra  Frecuencia Real  Frecuencia Esperada\n",
            "0          us               11           651.000000\n",
            "1      people               10           325.500000\n",
            "2        laws                9           217.000000\n",
            "3      states                8           162.750000\n",
            "4       right                7           130.200000\n",
            "..        ...              ...                  ...\n",
            "465  mutually                1             1.396996\n",
            "466    pledge                1             1.394004\n",
            "467  fortunes                1             1.391026\n",
            "468    sacred                1             1.388060\n",
            "469     honor                1             1.385106\n",
            "\n",
            "[470 rows x 3 columns]\n"
          ]
        }
      ]
    },
    {
      "cell_type": "code",
      "source": [
        "plot_zipf(df_zip2)"
      ],
      "metadata": {
        "colab": {
          "base_uri": "https://localhost:8080/",
          "height": 564
        },
        "id": "Rxp7L_phFfpS",
        "outputId": "e0d820bb-82e2-4b10-85cc-f3c337f88f6d"
      },
      "execution_count": null,
      "outputs": [
        {
          "output_type": "display_data",
          "data": {
            "text/plain": [
              "<Figure size 1000x600 with 1 Axes>"
            ],
            "image/png": "[encoded data removed]"
          },
          "metadata": {}
        }
      ]
    },
    {
      "cell_type": "markdown",
      "source": [
        "Comenta: ¿qué gráfico tiene más sentido?"
      ],
      "metadata": {
        "id": "6gTGOFVErtt_"
      }
    },
    {
      "cell_type": "markdown",
      "source": [
        "En ambos casos, hay una discrepancia significativa entre las frecuencias reales y las esperadas según la ley de Zipf. Sin embargo, la magnitud de esta discrepancia es mucho mayor en el primer gráfico, donde la diferencia entre las frecuencias reales y esperadas es mucho más pronunciada.\n",
        "\n",
        "Desviación de la ley de Zipf: En ambos casos, las frecuencias reales no siguen la distribución esperada según la ley de Zipf. Sin embargo, la desviación parece ser más extrema en el primer gráfico, donde la diferencia entre las frecuencias reales y esperadas es mucho mayor."
      ],
      "metadata": {
        "id": "60A1nKX9GnhC"
      }
    }
  ]
}
